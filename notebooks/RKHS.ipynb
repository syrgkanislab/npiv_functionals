{
 "cells": [
  {
   "cell_type": "code",
   "execution_count": 1,
   "id": "0",
   "metadata": {
    "colab": {
     "base_uri": "https://localhost:8080/"
    },
    "id": "AJUUtwf7tpMY",
    "outputId": "074b1ddd-fdc7-4bed-ac38-848f8de819a5"
   },
   "outputs": [
    {
     "name": "stdout",
     "output_type": "stream",
     "text": [
      "fatal: destination path 'npiv_functionals' already exists and is not an empty directory.\n"
     ]
    }
   ],
   "source": [
    "!git clone https://github.com/syrgkanislab/npiv_functionals.git"
   ]
  },
  {
   "cell_type": "code",
   "execution_count": 2,
   "id": "1",
   "metadata": {
    "colab": {
     "base_uri": "https://localhost:8080/"
    },
    "id": "k8UpU06VuXjS",
    "outputId": "3016683b-c466-410a-fbcd-500961f42721"
   },
   "outputs": [
    {
     "name": "stdout",
     "output_type": "stream",
     "text": [
      "/mnt/data/vasilis/npiv_functionals/notebooks/npiv_functionals\n"
     ]
    }
   ],
   "source": [
    "%cd npiv_functionals"
   ]
  },
  {
   "cell_type": "code",
   "execution_count": 3,
   "id": "2",
   "metadata": {
    "colab": {
     "base_uri": "https://localhost:8080/"
    },
    "id": "Ts1IMpmmukbF",
    "outputId": "b4bf258e-2dff-47aa-f0a2-cfd7a0dd1b24"
   },
   "outputs": [
    {
     "name": "stdout",
     "output_type": "stream",
     "text": [
      "/mnt/data/jupyter-env/jupyter-venv/lib/python3.12/site-packages/setuptools/dist.py:760: SetuptoolsDeprecationWarning: License classifiers are deprecated.\n",
      "!!\n",
      "\n",
      "        ********************************************************************************\n",
      "        Please consider removing the following classifiers in favor of a SPDX license expression:\n",
      "\n",
      "        License :: OSI Approved :: MIT License\n",
      "\n",
      "        See https://packaging.python.org/en/latest/guides/writing-pyproject-toml/#license for details.\n",
      "        ********************************************************************************\n",
      "\n",
      "!!\n",
      "  self._finalize_license_expression()\n",
      "running install\n",
      "/mnt/data/jupyter-env/jupyter-venv/lib/python3.12/site-packages/setuptools/_distutils/cmd.py:90: SetuptoolsDeprecationWarning: setup.py install is deprecated.\n",
      "!!\n",
      "\n",
      "        ********************************************************************************\n",
      "        Please avoid running ``setup.py`` directly.\n",
      "        Instead, use pypa/build, pypa/installer or other\n",
      "        standards-based tools.\n",
      "\n",
      "        See https://blog.ganssle.io/articles/2021/10/setup-py-deprecated.html for details.\n",
      "        ********************************************************************************\n",
      "\n",
      "!!\n",
      "  self.initialize_options()\n",
      "/mnt/data/jupyter-env/jupyter-venv/lib/python3.12/site-packages/setuptools/_distutils/cmd.py:90: EasyInstallDeprecationWarning: easy_install command is deprecated.\n",
      "!!\n",
      "\n",
      "        ********************************************************************************\n",
      "        Please avoid running ``setup.py`` and ``easy_install``.\n",
      "        Instead, use pypa/build, pypa/installer or other\n",
      "        standards-based tools.\n",
      "\n",
      "        See https://github.com/pypa/setuptools/issues/917 for details.\n",
      "        ********************************************************************************\n",
      "\n",
      "!!\n",
      "  self.initialize_options()\n",
      "running bdist_egg\n",
      "running egg_info\n",
      "writing mliv.egg-info/PKG-INFO\n",
      "writing dependency_links to mliv.egg-info/dependency_links.txt\n",
      "writing requirements to mliv.egg-info/requires.txt\n",
      "writing top-level names to mliv.egg-info/top_level.txt\n",
      "reading manifest file 'mliv.egg-info/SOURCES.txt'\n",
      "adding license file 'LICENSE'\n",
      "writing manifest file 'mliv.egg-info/SOURCES.txt'\n",
      "installing library code to build/bdist.linux-x86_64/egg\n",
      "running install_lib\n",
      "running build_py\n",
      "copying mliv/__init__.py -> build/lib/mliv\n",
      "copying mliv/dgps.py -> build/lib/mliv\n",
      "copying mliv/linear/__init__.py -> build/lib/mliv/linear\n",
      "copying mliv/linear/sparse_linear.py -> build/lib/mliv/linear\n",
      "copying mliv/linear/utilities.py -> build/lib/mliv/linear\n",
      "copying mliv/ensemble/__init__.py -> build/lib/mliv/ensemble\n",
      "copying mliv/ensemble/ensemble.py -> build/lib/mliv/ensemble\n",
      "copying mliv/cct/__init__.py -> build/lib/mliv/cct\n",
      "copying mliv/cct/mc2.py -> build/lib/mliv/cct\n",
      "copying mliv/cct/mc1.py -> build/lib/mliv/cct\n",
      "copying mliv/cct/dgp.py -> build/lib/mliv/cct\n",
      "copying mliv/neuralnet/__init__.py -> build/lib/mliv/neuralnet\n",
      "copying mliv/neuralnet/agmm_earlystop.py -> build/lib/mliv/neuralnet\n",
      "copying mliv/neuralnet/utilities.py -> build/lib/mliv/neuralnet\n",
      "copying mliv/neuralnet/oadam.py -> build/lib/mliv/neuralnet\n",
      "copying mliv/neuralnet/moments.py -> build/lib/mliv/neuralnet\n",
      "copying mliv/rkhs/__init__.py -> build/lib/mliv/rkhs\n",
      "copying mliv/rkhs/rkhsiv.py -> build/lib/mliv/rkhs\n",
      "creating build/bdist.linux-x86_64/egg\n",
      "creating build/bdist.linux-x86_64/egg/mliv\n",
      "creating build/bdist.linux-x86_64/egg/mliv/linear\n",
      "copying build/lib/mliv/linear/__init__.py -> build/bdist.linux-x86_64/egg/mliv/linear\n",
      "copying build/lib/mliv/linear/sparse_linear.py -> build/bdist.linux-x86_64/egg/mliv/linear\n",
      "copying build/lib/mliv/linear/utilities.py -> build/bdist.linux-x86_64/egg/mliv/linear\n",
      "creating build/bdist.linux-x86_64/egg/mliv/ensemble\n",
      "copying build/lib/mliv/ensemble/__init__.py -> build/bdist.linux-x86_64/egg/mliv/ensemble\n",
      "copying build/lib/mliv/ensemble/ensemble.py -> build/bdist.linux-x86_64/egg/mliv/ensemble\n",
      "creating build/bdist.linux-x86_64/egg/mliv/cct\n",
      "copying build/lib/mliv/cct/__init__.py -> build/bdist.linux-x86_64/egg/mliv/cct\n",
      "copying build/lib/mliv/cct/mc2.py -> build/bdist.linux-x86_64/egg/mliv/cct\n",
      "copying build/lib/mliv/cct/mc1.py -> build/bdist.linux-x86_64/egg/mliv/cct\n",
      "copying build/lib/mliv/cct/dgp.py -> build/bdist.linux-x86_64/egg/mliv/cct\n",
      "copying build/lib/mliv/__init__.py -> build/bdist.linux-x86_64/egg/mliv\n",
      "copying build/lib/mliv/dgps.py -> build/bdist.linux-x86_64/egg/mliv\n",
      "creating build/bdist.linux-x86_64/egg/mliv/neuralnet\n",
      "copying build/lib/mliv/neuralnet/__init__.py -> build/bdist.linux-x86_64/egg/mliv/neuralnet\n",
      "copying build/lib/mliv/neuralnet/agmm_earlystop.py -> build/bdist.linux-x86_64/egg/mliv/neuralnet\n",
      "copying build/lib/mliv/neuralnet/utilities.py -> build/bdist.linux-x86_64/egg/mliv/neuralnet\n",
      "copying build/lib/mliv/neuralnet/oadam.py -> build/bdist.linux-x86_64/egg/mliv/neuralnet\n",
      "copying build/lib/mliv/neuralnet/moments.py -> build/bdist.linux-x86_64/egg/mliv/neuralnet\n",
      "creating build/bdist.linux-x86_64/egg/mliv/rkhs\n",
      "copying build/lib/mliv/rkhs/__init__.py -> build/bdist.linux-x86_64/egg/mliv/rkhs\n",
      "copying build/lib/mliv/rkhs/rkhsiv.py -> build/bdist.linux-x86_64/egg/mliv/rkhs\n",
      "byte-compiling build/bdist.linux-x86_64/egg/mliv/linear/__init__.py to __init__.cpython-312.pyc\n",
      "byte-compiling build/bdist.linux-x86_64/egg/mliv/linear/sparse_linear.py to sparse_linear.cpython-312.pyc\n",
      "byte-compiling build/bdist.linux-x86_64/egg/mliv/linear/utilities.py to utilities.cpython-312.pyc\n",
      "byte-compiling build/bdist.linux-x86_64/egg/mliv/ensemble/__init__.py to __init__.cpython-312.pyc\n",
      "byte-compiling build/bdist.linux-x86_64/egg/mliv/ensemble/ensemble.py to ensemble.cpython-312.pyc\n",
      "byte-compiling build/bdist.linux-x86_64/egg/mliv/cct/__init__.py to __init__.cpython-312.pyc\n",
      "byte-compiling build/bdist.linux-x86_64/egg/mliv/cct/mc2.py to mc2.cpython-312.pyc\n",
      "byte-compiling build/bdist.linux-x86_64/egg/mliv/cct/mc1.py to mc1.cpython-312.pyc\n",
      "byte-compiling build/bdist.linux-x86_64/egg/mliv/cct/dgp.py to dgp.cpython-312.pyc\n",
      "byte-compiling build/bdist.linux-x86_64/egg/mliv/__init__.py to __init__.cpython-312.pyc\n",
      "byte-compiling build/bdist.linux-x86_64/egg/mliv/dgps.py to dgps.cpython-312.pyc\n",
      "byte-compiling build/bdist.linux-x86_64/egg/mliv/neuralnet/__init__.py to __init__.cpython-312.pyc\n",
      "byte-compiling build/bdist.linux-x86_64/egg/mliv/neuralnet/agmm_earlystop.py to agmm_earlystop.cpython-312.pyc\n",
      "byte-compiling build/bdist.linux-x86_64/egg/mliv/neuralnet/utilities.py to utilities.cpython-312.pyc\n",
      "byte-compiling build/bdist.linux-x86_64/egg/mliv/neuralnet/oadam.py to oadam.cpython-312.pyc\n",
      "byte-compiling build/bdist.linux-x86_64/egg/mliv/neuralnet/moments.py to moments.cpython-312.pyc\n",
      "byte-compiling build/bdist.linux-x86_64/egg/mliv/rkhs/__init__.py to __init__.cpython-312.pyc\n",
      "byte-compiling build/bdist.linux-x86_64/egg/mliv/rkhs/rkhsiv.py to rkhsiv.cpython-312.pyc\n",
      "creating build/bdist.linux-x86_64/egg/EGG-INFO\n",
      "copying mliv.egg-info/PKG-INFO -> build/bdist.linux-x86_64/egg/EGG-INFO\n",
      "copying mliv.egg-info/SOURCES.txt -> build/bdist.linux-x86_64/egg/EGG-INFO\n",
      "copying mliv.egg-info/dependency_links.txt -> build/bdist.linux-x86_64/egg/EGG-INFO\n",
      "copying mliv.egg-info/requires.txt -> build/bdist.linux-x86_64/egg/EGG-INFO\n",
      "copying mliv.egg-info/top_level.txt -> build/bdist.linux-x86_64/egg/EGG-INFO\n",
      "zip_safe flag not set; analyzing archive contents...\n",
      "creating 'dist/mliv-0.0.1-py3.12.egg' and adding 'build/bdist.linux-x86_64/egg' to it\n",
      "removing 'build/bdist.linux-x86_64/egg' (and everything under it)\n",
      "Processing mliv-0.0.1-py3.12.egg\n",
      "Removing /mnt/data/jupyter-env/jupyter-venv/lib/python3.12/site-packages/mliv-0.0.1-py3.12.egg\n",
      "Copying mliv-0.0.1-py3.12.egg to /mnt/data/jupyter-env/jupyter-venv/lib/python3.12/site-packages\n",
      "Removing mliv 0.0.1 from easy-install.pth file\n",
      "Adding mliv 0.0.1 to easy-install.pth file\n",
      "detected new path '/mnt/data/vasilis/npiv_functionals'\n",
      "\n",
      "Installed /mnt/data/jupyter-env/jupyter-venv/lib/python3.12/site-packages/mliv-0.0.1-py3.12.egg\n",
      "Processing dependencies for mliv==0.0.1\n",
      "Searching for cvxopt==1.3.2\n",
      "Best match: cvxopt 1.3.2\n",
      "Processing cvxopt-1.3.2-py3.12-linux-x86_64.egg\n",
      "Adding cvxopt 1.3.2 to easy-install.pth file\n",
      "\n",
      "Using /mnt/data/jupyter-env/jupyter-venv/lib/python3.12/site-packages/cvxopt-1.3.2-py3.12-linux-x86_64.egg\n",
      "Finished processing dependencies for mliv==0.0.1\n"
     ]
    }
   ],
   "source": [
    "!python setup.py install"
   ]
  },
  {
   "cell_type": "code",
   "execution_count": 1,
   "id": "3",
   "metadata": {
    "id": "TuzPwHQWu9ZQ"
   },
   "outputs": [],
   "source": [
    "import os\n",
    "import sys\n",
    "sys.path.append(os.path.abspath('.'))"
   ]
  },
  {
   "cell_type": "code",
   "execution_count": 16,
   "id": "4",
   "metadata": {
    "id": "079f4576"
   },
   "outputs": [],
   "source": [
    "import warnings\n",
    "warnings.simplefilter('ignore')\n",
    "import itertools\n",
    "import numpy as np\n",
    "import matplotlib.pyplot as plt\n",
    "from sklearn.model_selection import train_test_split\n",
    "from mliv.dgps import get_data, get_tau_fn, fn_dict\n",
    "from mliv.neuralnet.utilities import mean_ci\n",
    "from mliv.neuralnet import AGMMEarlyStop as AGMM\n",
    "from mliv.neuralnet.moments import avg_small_diff\n",
    "from sklearn.ensemble import RandomForestRegressor\n",
    "import joblib\n",
    "from joblib import Parallel, delayed\n",
    "from mliv.cct.mc2 import MC2\n",
    "from mliv.rkhs import ApproxRKHSIVCV\n",
    "from sklearn.model_selection import cross_val_predict\n",
    "from sklearn.preprocessing import PolynomialFeatures, StandardScaler\n",
    "from sklearn.kernel_approximation import Nystroem\n",
    "from sklearn.pipeline import FeatureUnion, Pipeline\n",
    "import scipy\n",
    "import pandas as pd"
   ]
  },
  {
   "cell_type": "code",
   "execution_count": 3,
   "id": "5",
   "metadata": {
    "id": "46cafedd"
   },
   "outputs": [],
   "source": [
    "# average finite difference moment\n",
    "def moment_fn(x, test_fn):\n",
    "    epsilon = 0.1\n",
    "    t1 = np.hstack([x[:, [0]] + epsilon, x[:, 1:]])\n",
    "    t0 = np.hstack([x[:, [0]] - epsilon, x[:, 1:]])\n",
    "    return (test_fn(t1) - test_fn(t0)) / (2 * epsilon)"
   ]
  },
  {
   "cell_type": "code",
   "execution_count": 4,
   "id": "6",
   "metadata": {
    "id": "yQM3g2gRt19j"
   },
   "outputs": [],
   "source": [
    "def moment_evals(x):\n",
    "    epsilon = 0.1\n",
    "    t1 = np.hstack([x[:, [0]] + epsilon, x[:, 1:]])\n",
    "    t0 = np.hstack([x[:, [0]] - epsilon, x[:, 1:]])\n",
    "    return t0, t1"
   ]
  },
  {
   "cell_type": "code",
   "execution_count": 5,
   "id": "7",
   "metadata": {
    "id": "1e9036f7"
   },
   "outputs": [],
   "source": [
    "it = 0\n",
    "n = 5000\n",
    "mc2_gen = MC2(n, 100, None, dimension=10, corr=0.5)\n",
    "npvec, *_ = mc2_gen.data(it)\n",
    "Z, X, Y = npvec['instrument'], npvec['endogenous'], npvec['response']\n",
    "n_z = Z.shape[1]\n",
    "n_x = X.shape[1]"
   ]
  },
  {
   "cell_type": "code",
   "execution_count": 6,
   "id": "8",
   "metadata": {
    "id": "3adda476"
   },
   "outputs": [],
   "source": [
    "Z_train, Z_val, X_train, X_val, Y_train, Y_val = train_test_split(\n",
    "        Z, X, Y, test_size=.5, shuffle=True)\n",
    "\n",
    "ztrans = Nystroem(n_components=100)\n",
    "xtrans = Nystroem(n_components=100)\n",
    "# ztrans = PolynomialFeatures(degree=2)\n",
    "# xtrans = PolynomialFeatures(degree=2)\n",
    "# ztrans = FeatureUnion([('poly', PolynomialFeatures(degree=2)), ('nys', Nystroem(n_components=10))])\n",
    "# xtrans = FeatureUnion([('poly', PolynomialFeatures(degree=2)), ('nys', Nystroem(n_components=10))])\n",
    "ztrans = Pipeline([('trans', ztrans), ('scale', StandardScaler())])\n",
    "xtrans = Pipeline([('trans', xtrans), ('scale', StandardScaler())])\n",
    "Psi = ztrans.fit_transform(Z_train)\n",
    "xtrans.fit(np.vstack((X_train,) + moment_evals(X_train)))\n",
    "Phi = xtrans.transform(X_train)\n",
    "mPhi = moment_fn(X_train, xtrans.transform)"
   ]
  },
  {
   "cell_type": "code",
   "execution_count": 7,
   "id": "9",
   "metadata": {
    "id": "0bc28612"
   },
   "outputs": [],
   "source": [
    "CovPsi = Psi.T @ Psi\n",
    "CovPhiPsi = Phi.T @ Psi\n",
    "Phival = xtrans.transform(X_val)\n",
    "Psival = ztrans.transform(Z_val)\n",
    "mPhival = moment_fn(X_val, xtrans.transform)\n",
    "moment_val = np.mean(mPhival, axis=0)\n",
    "\n",
    "best_violation = np.inf\n",
    "for alpha in np.logspace(-6, 1, 5):\n",
    "    regCov = scipy.linalg.pinv(CovPsi + alpha * n * np.eye(Psi.shape[1]))\n",
    "    Sigma = CovPhiPsi @ regCov @ CovPsi @ regCov @  CovPhiPsi.T\n",
    "    for beta in np.logspace(-6, 1, 5):\n",
    "        xi = scipy.linalg.pinv(Sigma + beta * n * np.eye(Phi.shape[1])) @ np.sum(mPhi, axis=0)\n",
    "        for gamma in np.logspace(-6, 1, 5):\n",
    "            qparam = scipy.linalg.pinv(CovPsi + gamma * n * np.eye(Psi.shape[1])) @ CovPhiPsi.T @ xi\n",
    "\n",
    "            representer_val = np.mean((Psival @ qparam).reshape(-1, 1) * Phival, axis=0)\n",
    "            violation = np.linalg.norm(moment_val - representer_val, ord=2)\n",
    "            if violation <= best_violation:\n",
    "                best_alpha = alpha\n",
    "                best_beta = beta\n",
    "                best_gamma = gamma\n",
    "                best_violation = violation"
   ]
  },
  {
   "cell_type": "code",
   "execution_count": 8,
   "id": "10",
   "metadata": {
    "id": "6852d273"
   },
   "outputs": [],
   "source": [
    "alpha = best_alpha\n",
    "beta = best_beta\n",
    "gamma = best_gamma\n",
    "regCov = scipy.linalg.pinv(CovPsi + alpha * n * np.eye(Psi.shape[1]))\n",
    "Sigma = CovPhiPsi @ regCov @ CovPsi @ regCov @  CovPhiPsi.T\n",
    "xi = scipy.linalg.pinv(Sigma + beta * n * np.eye(Phi.shape[1])) @ np.sum(mPhi, axis=0)\n",
    "qparam = scipy.linalg.pinv(CovPsi + gamma * n * np.eye(Psi.shape[1])) @ CovPhiPsi.T @ xi"
   ]
  },
  {
   "cell_type": "code",
   "execution_count": 9,
   "id": "11",
   "metadata": {
    "colab": {
     "base_uri": "https://localhost:8080/"
    },
    "id": "d595e251",
    "outputId": "6b89177f-e2c5-4559-959f-f366c7e6e5b1"
   },
   "outputs": [
    {
     "data": {
      "text/plain": [
       "(np.float64(0.0031622776601683794),\n",
       " np.float64(5.623413251903491e-05),\n",
       " np.float64(0.1778279410038923),\n",
       " np.float64(1.0505554273261328))"
      ]
     },
     "execution_count": 9,
     "metadata": {},
     "output_type": "execute_result"
    }
   ],
   "source": [
    "best_alpha, best_beta, best_gamma, best_violation"
   ]
  },
  {
   "cell_type": "code",
   "execution_count": 10,
   "id": "12",
   "metadata": {
    "colab": {
     "base_uri": "https://localhost:8080/"
    },
    "id": "6fcc364a",
    "outputId": "1a381e47-fd3d-45bd-8c61-43deca822756"
   },
   "outputs": [
    {
     "data": {
      "text/plain": [
       "<mliv.rkhs.rkhsiv.ApproxRKHSIVCV at 0x7d92c136e3c0>"
      ]
     },
     "execution_count": 10,
     "metadata": {},
     "output_type": "execute_result"
    }
   ],
   "source": [
    "agmm = ApproxRKHSIVCV(n_components=200)\n",
    "agmm.fit(Z_train, X_train, Y_train)"
   ]
  },
  {
   "cell_type": "code",
   "execution_count": 11,
   "id": "13",
   "metadata": {
    "colab": {
     "base_uri": "https://localhost:8080/"
    },
    "id": "d09078c8",
    "outputId": "687ce55c-2f8a-4987-8081-d162a789ea4a"
   },
   "outputs": [
    {
     "data": {
      "text/plain": [
       "((np.float64(1.1503100471131114),\n",
       "  np.float64(1.0262727674858683),\n",
       "  np.float64(1.2743473267403544)),\n",
       " (np.float64(0.844874320849387),\n",
       "  np.float64(0.07443483584815724),\n",
       "  np.float64(1.6153138058506167)),\n",
       " (np.float64(1.2636576493871527),\n",
       "  np.float64(0.9907476341217467),\n",
       "  np.float64(1.5365676646525588)))"
      ]
     },
     "execution_count": 11,
     "metadata": {},
     "output_type": "execute_result"
    }
   ],
   "source": [
    "direct = moment_fn(X_val, agmm.predict).flatten()\n",
    "residual = (Y_val - agmm.predict(X_val)).flatten()\n",
    "qvalues = Psival @ qparam\n",
    "pseudo = direct + qvalues * residual\n",
    "\n",
    "reg = mean_ci(direct)\n",
    "dr = mean_ci(pseudo)\n",
    "ipw = mean_ci(qvalues * Y_val.flatten())\n",
    "reg, ipw, dr"
   ]
  },
  {
   "cell_type": "code",
   "execution_count": 12,
   "id": "14",
   "metadata": {
    "colab": {
     "base_uri": "https://localhost:8080/"
    },
    "id": "2366d8d6",
    "outputId": "de882b8c-cdc0-4d61-83c0-27e22e3fd7a3"
   },
   "outputs": [
    {
     "data": {
      "text/plain": [
       "(np.float64(1.324173736562062),\n",
       " np.float64(1.0368812720008782),\n",
       " np.float64(1.611466201123246))"
      ]
     },
     "execution_count": 12,
     "metadata": {},
     "output_type": "execute_result"
    }
   ],
   "source": [
    "xivalues = xtrans.transform(X_val) @ xi\n",
    "coef = np.mean(qvalues * residual) / np.mean(qvalues * xivalues)\n",
    "pseudo_tmle = direct + coef * (mPhival @ xi)\n",
    "pseudo_tmle += qvalues * (residual - coef * xivalues)\n",
    "tmle = mean_ci(pseudo_tmle)\n",
    "tmle"
   ]
  },
  {
   "cell_type": "code",
   "execution_count": 13,
   "id": "15",
   "metadata": {
    "id": "MAcy1wXR7x8e"
   },
   "outputs": [],
   "source": [
    "from sklearn.model_selection import KFold\n",
    "\n",
    "def exp(it, n, dim, corr, fname='cct', iv_strength=None, endogeneity_strength=None):\n",
    "    np.random.seed(it)\n",
    "    if fname == 'cct':\n",
    "        mc2_gen = MC2(n, 100, None, dimension=dim, corr=corr)\n",
    "        npvec, *_ = mc2_gen.data(it)\n",
    "        Z, X, Y = npvec['instrument'], npvec['endogenous'], npvec['response']\n",
    "    else:\n",
    "        Z, X, Y, _ = get_data(n, 1, iv_strength, get_tau_fn(fn_dict[fname]), 5, endogeneity_strength=endogeneity_strength)\n",
    "\n",
    "    direct = np.zeros(n)\n",
    "    residual = np.zeros(n)\n",
    "    qvalues = np.zeros(n)\n",
    "    xivalues = np.zeros(n)\n",
    "    mxivalues = np.zeros(n)\n",
    "\n",
    "    for train, test in KFold(n_splits=5, shuffle=True).split(Z):\n",
    "        Z_train, Z_val, X_train, X_val, Y_train, Y_val = Z[train], Z[test], X[train], X[test], Y[train], Y[test]\n",
    "\n",
    "        ztrans = Nystroem(n_components=200)\n",
    "        xtrans = Nystroem(n_components=200)\n",
    "        ztrans = Pipeline([('trans', ztrans), ('scale', StandardScaler())])\n",
    "        xtrans = Pipeline([('trans', xtrans), ('scale', StandardScaler())])\n",
    "\n",
    "        Psi = ztrans.fit_transform(Z_train)\n",
    "        xtrans.fit(np.vstack((X_train,) + moment_evals(X_train)))\n",
    "        Phi = xtrans.transform(X_train)\n",
    "        mPhi = moment_fn(X_train, xtrans.transform)\n",
    "\n",
    "        CovPsi = Psi.T @ Psi\n",
    "        CovPhiPsi = Phi.T @ Psi\n",
    "        Phival = xtrans.transform(X_val)\n",
    "        Psival = ztrans.transform(Z_val)\n",
    "        mPhival = moment_fn(X_val, xtrans.transform)\n",
    "        moment_val = np.mean(mPhival, axis=0)\n",
    "\n",
    "        best_violation = np.inf\n",
    "        for alpha in np.logspace(-7, 1, 10):\n",
    "            regCov = scipy.linalg.inv(CovPsi + alpha * n * np.eye(Psi.shape[1]))\n",
    "            Sigma = CovPhiPsi @ regCov @ CovPsi @ regCov @  CovPhiPsi.T\n",
    "            for beta in np.logspace(-7, 1, 10):\n",
    "                xi = scipy.linalg.inv(Sigma + beta * n * np.eye(Phi.shape[1])) @ np.sum(mPhi, axis=0)\n",
    "                for gamma in np.logspace(-7, 1, 10):\n",
    "                    qparam = scipy.linalg.inv(CovPsi + gamma * n * np.eye(Psi.shape[1])) @ CovPhiPsi.T @ xi\n",
    "\n",
    "                    # calculating the violation in the riesz representation property for each feature\n",
    "                    #  E[m(W; phi)] = E[q(Z) * phi(X)]\n",
    "                    # for every feature phi.\n",
    "                    representer_val = np.mean((Psival @ qparam).reshape(-1, 1) * Phival, axis=0)\n",
    "                    violation = np.linalg.norm(moment_val - representer_val, ord=2)\n",
    "                    if violation <= best_violation:\n",
    "                        best_alpha = alpha\n",
    "                        best_beta = beta\n",
    "                        best_gamma = gamma\n",
    "                        best_violation = violation\n",
    "\n",
    "        alpha = best_alpha\n",
    "        beta = best_beta\n",
    "        gamma = best_gamma\n",
    "        regCov = scipy.linalg.inv(CovPsi + alpha * n * np.eye(Psi.shape[1]))\n",
    "        Sigma = CovPhiPsi @ regCov @ CovPsi @ regCov @  CovPhiPsi.T\n",
    "        xi = scipy.linalg.inv(Sigma + beta * n * np.eye(Phi.shape[1])) @ np.sum(mPhi, axis=0)\n",
    "        qparam = scipy.linalg.inv(CovPsi + gamma * n * np.eye(Psi.shape[1])) @ CovPhiPsi.T @ xi\n",
    "\n",
    "        agmm = ApproxRKHSIVCV(n_components=200)\n",
    "        agmm.fit(Z_train, X_train, Y_train)\n",
    "\n",
    "        direct[test] = moment_fn(X_val, agmm.predict).flatten()\n",
    "        residual[test] = (Y_val - agmm.predict(X_val)).flatten()\n",
    "        qvalues[test] = Psival @ qparam\n",
    "        xivalues[test] = Phival @ xi\n",
    "        mxivalues[test] = mPhival @ xi\n",
    "\n",
    "    pseudo = direct + qvalues * residual\n",
    "\n",
    "    reg = mean_ci(direct)\n",
    "    dr = mean_ci(pseudo)\n",
    "    ipw = mean_ci(qvalues * Y.flatten())\n",
    "\n",
    "    coef = np.mean(qvalues * residual) / np.mean(qvalues * xivalues)\n",
    "    pseudo_tmle = direct + coef * mxivalues\n",
    "    pseudo_tmle += qvalues * (residual - coef * xivalues)\n",
    "    tmle = mean_ci(pseudo_tmle)\n",
    "\n",
    "    return dr, tmle, ipw, reg"
   ]
  },
  {
   "cell_type": "code",
   "execution_count": null,
   "id": "16",
   "metadata": {
    "id": "cG37s84N9QDn"
   },
   "outputs": [],
   "source": [
    "def get_result_dict(results, true, alpha=0.95):\n",
    "    df = {}\n",
    "    for it, method in enumerate(['dr', 'tmle', 'ipw', 'direct']):\n",
    "        if method == 'ipw':\n",
    "            continue\n",
    "        data = np.array([r[it] for r in results])\n",
    "        confidence = .95\n",
    "        se = (data[:, 2] - data[:, 0]) / scipy.stats.t.ppf((1 + confidence) / 2., n - 1)\n",
    "        if method in ['dr', 'tmle']:\n",
    "            confidence = 0.95\n",
    "            data[:, 1] = data[:, 0] - se * scipy.stats.t.ppf((1 + confidence) / 2., n - 1)\n",
    "            data[:, 2] = data[:, 0] + se * scipy.stats.t.ppf((1 + confidence) / 2., n - 1)\n",
    "            cov95 = f'{100*np.mean((data[:, 1] <= true) & (true <= data[:, 2])):.0f}'\n",
    "            confidence = 0.99\n",
    "            data[:, 1] = data[:, 0] - se * scipy.stats.t.ppf((1 + confidence) / 2., n - 1)\n",
    "            data[:, 2] = data[:, 0] + se * scipy.stats.t.ppf((1 + confidence) / 2., n - 1)\n",
    "            cov99 = f'{100*np.mean((data[:, 1] <= true) & (true <= data[:, 2])):.0f}'\n",
    "        else:\n",
    "            cov = 'NA'\n",
    "        df[method] =  {'cov95': cov95, 'cov99': cov99,\n",
    "                'rmse': f'{np.sqrt(np.mean((data[:, 0] - true)**2)):.3f}',\n",
    "                'bias': f'{np.abs(np.mean((data[:, 0] - true))):.3f}'}\n",
    "    return df"
   ]
  },
  {
   "cell_type": "code",
   "execution_count": null,
   "id": "17",
   "metadata": {
    "colab": {
     "background_save": true,
     "base_uri": "https://localhost:8080/",
     "height": 1000
    },
    "id": "2aMYRrDf-Yp7",
    "outputId": "bf2da7ef-0651-4792-96e5-163ac758cbcd"
   },
   "outputs": [],
   "source": [
    "true = 1.0\n",
    "\n",
    "for n in [1000, 5000]:\n",
    "    for n_x in [0, 5, 10]:\n",
    "        for corr in [0.0, 0.5]:\n",
    "            if n_x == 0 and corr == 0.5:\n",
    "                continue\n",
    "            print(n, n_x, corr)\n",
    "            results = Parallel(n_jobs=-1, verbose=3)(delayed(exp)(it, n, n_x, corr)\n",
    "                                                            for it in range(1000))\n",
    "            joblib.dump(results, f'rkhs_cct_n_{n}_n_x_{n_x}_corr_{corr}.jbl')\n",
    "            df = pd.DataFrame(get_result_dict(results, true))\n",
    "            display(df)"
   ]
  },
  {
   "cell_type": "code",
   "execution_count": null,
   "id": "18",
   "metadata": {
    "id": "xI-mIQDlvqLb"
   },
   "outputs": [],
   "source": [
    "true = 1.0\n",
    "res = {}\n",
    "for n_x in [0, 5, 10]:\n",
    "    res[f'${n_x}$'] = {}\n",
    "    for n in [1000, 5000]:\n",
    "        res[f'${n_x}$'][f'${n}$'] = {}\n",
    "        for corr in [0.0, 0.5]:\n",
    "            if n_x == 0 and corr == 0.5:\n",
    "                continue\n",
    "            results = joblib.load(f'rkhs_cct_n_{n}_n_x_{n_x}_corr_{corr}.jbl')\n",
    "            res[f'${n_x}$'][f'${n}$'][f'${corr}$'] = pd.DataFrame(get_result_dict(results, true))\n",
    "        res[f'${n_x}$'][f'${n}$'] = pd.concat(res[f'${n_x}$'][f'${n}$'], sort=False)\n",
    "    res[f'${n_x}$'] = pd.concat(res[f'${n_x}$'], sort=False)\n",
    "res = pd.concat(res, sort=False).unstack(level=3)\n",
    "print(res.to_latex(bold_rows=True, multirow=True,\n",
    "                   multicolumn=True, escape=False,\n",
    "                   column_format='lll||llll|llll|llll|',\n",
    "                   multicolumn_format='c|'))"
   ]
  },
  {
   "cell_type": "code",
   "execution_count": null,
   "id": "21",
   "metadata": {
    "colab": {
     "base_uri": "https://localhost:8080/",
     "height": 1000
    },
    "id": "bbe7c46f",
    "outputId": "7f4cbd4b-726a-4eff-8c62-c934eb8c1a47"
   },
   "outputs": [
    {
     "name": "stdout",
     "output_type": "stream",
     "text": [
      "500 abs 0.2 0.1 -0.0007951069338182391\n"
     ]
    },
    {
     "name": "stderr",
     "output_type": "stream",
     "text": [
      "[Parallel(n_jobs=-1)]: Using backend LokyBackend with 80 concurrent workers.\n",
      "[Parallel(n_jobs=-1)]: Done 128 tasks      | elapsed:   26.3s\n",
      "[Parallel(n_jobs=-1)]: Done 352 tasks      | elapsed:  1.0min\n",
      "[Parallel(n_jobs=-1)]: Done 640 tasks      | elapsed:  1.6min\n",
      "[Parallel(n_jobs=-1)]: Done 1000 out of 1000 | elapsed:  2.6min finished\n"
     ]
    },
    {
     "data": {
      "text/html": [
       "<div>\n",
       "<style scoped>\n",
       "    .dataframe tbody tr th:only-of-type {\n",
       "        vertical-align: middle;\n",
       "    }\n",
       "\n",
       "    .dataframe tbody tr th {\n",
       "        vertical-align: top;\n",
       "    }\n",
       "\n",
       "    .dataframe thead th {\n",
       "        text-align: right;\n",
       "    }\n",
       "</style>\n",
       "<table border=\"1\" class=\"dataframe\">\n",
       "  <thead>\n",
       "    <tr style=\"text-align: right;\">\n",
       "      <th></th>\n",
       "      <th>dr</th>\n",
       "      <th>tmle</th>\n",
       "      <th>direct</th>\n",
       "    </tr>\n",
       "  </thead>\n",
       "  <tbody>\n",
       "    <tr>\n",
       "      <th>cov95</th>\n",
       "      <td>94</td>\n",
       "      <td>95</td>\n",
       "      <td>95</td>\n",
       "    </tr>\n",
       "    <tr>\n",
       "      <th>cov99</th>\n",
       "      <td>99</td>\n",
       "      <td>99</td>\n",
       "      <td>99</td>\n",
       "    </tr>\n",
       "    <tr>\n",
       "      <th>rmse</th>\n",
       "      <td>0.176</td>\n",
       "      <td>3.514</td>\n",
       "      <td>0.107</td>\n",
       "    </tr>\n",
       "    <tr>\n",
       "      <th>bias</th>\n",
       "      <td>0.009</td>\n",
       "      <td>0.066</td>\n",
       "      <td>0.021</td>\n",
       "    </tr>\n",
       "  </tbody>\n",
       "</table>\n",
       "</div>"
      ],
      "text/plain": [
       "          dr   tmle direct\n",
       "cov95     94     95     95\n",
       "cov99     99     99     99\n",
       "rmse   0.176  3.514  0.107\n",
       "bias   0.009  0.066  0.021"
      ]
     },
     "metadata": {},
     "output_type": "display_data"
    },
    {
     "name": "stderr",
     "output_type": "stream",
     "text": [
      "[Parallel(n_jobs=-1)]: Using backend LokyBackend with 80 concurrent workers.\n"
     ]
    },
    {
     "name": "stdout",
     "output_type": "stream",
     "text": [
      "1000 abs 0.2 0.1 -0.0007951069338182391\n"
     ]
    },
    {
     "name": "stderr",
     "output_type": "stream",
     "text": [
      "[Parallel(n_jobs=-1)]: Done 128 tasks      | elapsed:   25.1s\n",
      "[Parallel(n_jobs=-1)]: Done 352 tasks      | elapsed:  1.0min\n",
      "[Parallel(n_jobs=-1)]: Done 640 tasks      | elapsed:  1.7min\n",
      "[Parallel(n_jobs=-1)]: Done 1000 out of 1000 | elapsed:  2.7min finished\n"
     ]
    },
    {
     "data": {
      "text/html": [
       "<div>\n",
       "<style scoped>\n",
       "    .dataframe tbody tr th:only-of-type {\n",
       "        vertical-align: middle;\n",
       "    }\n",
       "\n",
       "    .dataframe tbody tr th {\n",
       "        vertical-align: top;\n",
       "    }\n",
       "\n",
       "    .dataframe thead th {\n",
       "        text-align: right;\n",
       "    }\n",
       "</style>\n",
       "<table border=\"1\" class=\"dataframe\">\n",
       "  <thead>\n",
       "    <tr style=\"text-align: right;\">\n",
       "      <th></th>\n",
       "      <th>dr</th>\n",
       "      <th>tmle</th>\n",
       "      <th>direct</th>\n",
       "    </tr>\n",
       "  </thead>\n",
       "  <tbody>\n",
       "    <tr>\n",
       "      <th>cov95</th>\n",
       "      <td>96</td>\n",
       "      <td>94</td>\n",
       "      <td>94</td>\n",
       "    </tr>\n",
       "    <tr>\n",
       "      <th>cov99</th>\n",
       "      <td>99</td>\n",
       "      <td>99</td>\n",
       "      <td>99</td>\n",
       "    </tr>\n",
       "    <tr>\n",
       "      <th>rmse</th>\n",
       "      <td>0.112</td>\n",
       "      <td>1.148</td>\n",
       "      <td>0.082</td>\n",
       "    </tr>\n",
       "    <tr>\n",
       "      <th>bias</th>\n",
       "      <td>0.002</td>\n",
       "      <td>0.015</td>\n",
       "      <td>0.010</td>\n",
       "    </tr>\n",
       "  </tbody>\n",
       "</table>\n",
       "</div>"
      ],
      "text/plain": [
       "          dr   tmle direct\n",
       "cov95     96     94     94\n",
       "cov99     99     99     99\n",
       "rmse   0.112  1.148  0.082\n",
       "bias   0.002  0.015  0.010"
      ]
     },
     "metadata": {},
     "output_type": "display_data"
    },
    {
     "name": "stderr",
     "output_type": "stream",
     "text": [
      "[Parallel(n_jobs=-1)]: Using backend LokyBackend with 80 concurrent workers.\n"
     ]
    },
    {
     "name": "stdout",
     "output_type": "stream",
     "text": [
      "2000 abs 0.2 0.1 -0.0007951069338182391\n"
     ]
    },
    {
     "name": "stderr",
     "output_type": "stream",
     "text": [
      "[Parallel(n_jobs=-1)]: Done 128 tasks      | elapsed:   27.0s\n",
      "[Parallel(n_jobs=-1)]: Done 352 tasks      | elapsed:  1.1min\n",
      "[Parallel(n_jobs=-1)]: Done 640 tasks      | elapsed:  1.8min\n",
      "[Parallel(n_jobs=-1)]: Done 1000 out of 1000 | elapsed:  2.9min finished\n"
     ]
    },
    {
     "data": {
      "text/html": [
       "<div>\n",
       "<style scoped>\n",
       "    .dataframe tbody tr th:only-of-type {\n",
       "        vertical-align: middle;\n",
       "    }\n",
       "\n",
       "    .dataframe tbody tr th {\n",
       "        vertical-align: top;\n",
       "    }\n",
       "\n",
       "    .dataframe thead th {\n",
       "        text-align: right;\n",
       "    }\n",
       "</style>\n",
       "<table border=\"1\" class=\"dataframe\">\n",
       "  <thead>\n",
       "    <tr style=\"text-align: right;\">\n",
       "      <th></th>\n",
       "      <th>dr</th>\n",
       "      <th>tmle</th>\n",
       "      <th>direct</th>\n",
       "    </tr>\n",
       "  </thead>\n",
       "  <tbody>\n",
       "    <tr>\n",
       "      <th>cov95</th>\n",
       "      <td>95</td>\n",
       "      <td>94</td>\n",
       "      <td>94</td>\n",
       "    </tr>\n",
       "    <tr>\n",
       "      <th>cov99</th>\n",
       "      <td>99</td>\n",
       "      <td>99</td>\n",
       "      <td>99</td>\n",
       "    </tr>\n",
       "    <tr>\n",
       "      <th>rmse</th>\n",
       "      <td>0.077</td>\n",
       "      <td>0.452</td>\n",
       "      <td>0.059</td>\n",
       "    </tr>\n",
       "    <tr>\n",
       "      <th>bias</th>\n",
       "      <td>0.000</td>\n",
       "      <td>0.002</td>\n",
       "      <td>0.002</td>\n",
       "    </tr>\n",
       "  </tbody>\n",
       "</table>\n",
       "</div>"
      ],
      "text/plain": [
       "          dr   tmle direct\n",
       "cov95     95     94     94\n",
       "cov99     99     99     99\n",
       "rmse   0.077  0.452  0.059\n",
       "bias   0.000  0.002  0.002"
      ]
     },
     "metadata": {},
     "output_type": "display_data"
    },
    {
     "name": "stdout",
     "output_type": "stream",
     "text": [
      "500 abs 0.2 0.3 0.0002801681965169937\n"
     ]
    },
    {
     "name": "stderr",
     "output_type": "stream",
     "text": [
      "[Parallel(n_jobs=-1)]: Using backend LokyBackend with 80 concurrent workers.\n",
      "[Parallel(n_jobs=-1)]: Done 128 tasks      | elapsed:   23.9s\n",
      "[Parallel(n_jobs=-1)]: Done 352 tasks      | elapsed:  1.0min\n",
      "[Parallel(n_jobs=-1)]: Done 640 tasks      | elapsed:  1.6min\n",
      "[Parallel(n_jobs=-1)]: Done 1000 out of 1000 | elapsed:  2.6min finished\n"
     ]
    },
    {
     "data": {
      "text/html": [
       "<div>\n",
       "<style scoped>\n",
       "    .dataframe tbody tr th:only-of-type {\n",
       "        vertical-align: middle;\n",
       "    }\n",
       "\n",
       "    .dataframe tbody tr th {\n",
       "        vertical-align: top;\n",
       "    }\n",
       "\n",
       "    .dataframe thead th {\n",
       "        text-align: right;\n",
       "    }\n",
       "</style>\n",
       "<table border=\"1\" class=\"dataframe\">\n",
       "  <thead>\n",
       "    <tr style=\"text-align: right;\">\n",
       "      <th></th>\n",
       "      <th>dr</th>\n",
       "      <th>tmle</th>\n",
       "      <th>direct</th>\n",
       "    </tr>\n",
       "  </thead>\n",
       "  <tbody>\n",
       "    <tr>\n",
       "      <th>cov95</th>\n",
       "      <td>95</td>\n",
       "      <td>96</td>\n",
       "      <td>96</td>\n",
       "    </tr>\n",
       "    <tr>\n",
       "      <th>cov99</th>\n",
       "      <td>98</td>\n",
       "      <td>99</td>\n",
       "      <td>99</td>\n",
       "    </tr>\n",
       "    <tr>\n",
       "      <th>rmse</th>\n",
       "      <td>0.179</td>\n",
       "      <td>2.710</td>\n",
       "      <td>0.112</td>\n",
       "    </tr>\n",
       "    <tr>\n",
       "      <th>bias</th>\n",
       "      <td>0.002</td>\n",
       "      <td>0.044</td>\n",
       "      <td>0.059</td>\n",
       "    </tr>\n",
       "  </tbody>\n",
       "</table>\n",
       "</div>"
      ],
      "text/plain": [
       "          dr   tmle direct\n",
       "cov95     95     96     96\n",
       "cov99     98     99     99\n",
       "rmse   0.179  2.710  0.112\n",
       "bias   0.002  0.044  0.059"
      ]
     },
     "metadata": {},
     "output_type": "display_data"
    },
    {
     "name": "stderr",
     "output_type": "stream",
     "text": [
      "[Parallel(n_jobs=-1)]: Using backend LokyBackend with 80 concurrent workers.\n"
     ]
    },
    {
     "name": "stdout",
     "output_type": "stream",
     "text": [
      "1000 abs 0.2 0.3 0.0002801681965169937\n"
     ]
    },
    {
     "name": "stderr",
     "output_type": "stream",
     "text": [
      "[Parallel(n_jobs=-1)]: Done 128 tasks      | elapsed:   25.1s\n",
      "[Parallel(n_jobs=-1)]: Done 352 tasks      | elapsed:  1.0min\n",
      "[Parallel(n_jobs=-1)]: Done 640 tasks      | elapsed:  1.7min\n",
      "[Parallel(n_jobs=-1)]: Done 1000 out of 1000 | elapsed:  2.7min finished\n"
     ]
    },
    {
     "data": {
      "text/html": [
       "<div>\n",
       "<style scoped>\n",
       "    .dataframe tbody tr th:only-of-type {\n",
       "        vertical-align: middle;\n",
       "    }\n",
       "\n",
       "    .dataframe tbody tr th {\n",
       "        vertical-align: top;\n",
       "    }\n",
       "\n",
       "    .dataframe thead th {\n",
       "        text-align: right;\n",
       "    }\n",
       "</style>\n",
       "<table border=\"1\" class=\"dataframe\">\n",
       "  <thead>\n",
       "    <tr style=\"text-align: right;\">\n",
       "      <th></th>\n",
       "      <th>dr</th>\n",
       "      <th>tmle</th>\n",
       "      <th>direct</th>\n",
       "    </tr>\n",
       "  </thead>\n",
       "  <tbody>\n",
       "    <tr>\n",
       "      <th>cov95</th>\n",
       "      <td>94</td>\n",
       "      <td>94</td>\n",
       "      <td>94</td>\n",
       "    </tr>\n",
       "    <tr>\n",
       "      <th>cov99</th>\n",
       "      <td>98</td>\n",
       "      <td>99</td>\n",
       "      <td>99</td>\n",
       "    </tr>\n",
       "    <tr>\n",
       "      <th>rmse</th>\n",
       "      <td>0.126</td>\n",
       "      <td>1.563</td>\n",
       "      <td>0.087</td>\n",
       "    </tr>\n",
       "    <tr>\n",
       "      <th>bias</th>\n",
       "      <td>0.003</td>\n",
       "      <td>0.062</td>\n",
       "      <td>0.031</td>\n",
       "    </tr>\n",
       "  </tbody>\n",
       "</table>\n",
       "</div>"
      ],
      "text/plain": [
       "          dr   tmle direct\n",
       "cov95     94     94     94\n",
       "cov99     98     99     99\n",
       "rmse   0.126  1.563  0.087\n",
       "bias   0.003  0.062  0.031"
      ]
     },
     "metadata": {},
     "output_type": "display_data"
    },
    {
     "name": "stderr",
     "output_type": "stream",
     "text": [
      "[Parallel(n_jobs=-1)]: Using backend LokyBackend with 80 concurrent workers.\n"
     ]
    },
    {
     "name": "stdout",
     "output_type": "stream",
     "text": [
      "2000 abs 0.2 0.3 0.0002801681965169937\n"
     ]
    },
    {
     "name": "stderr",
     "output_type": "stream",
     "text": [
      "[Parallel(n_jobs=-1)]: Done 128 tasks      | elapsed:   27.1s\n",
      "[Parallel(n_jobs=-1)]: Done 352 tasks      | elapsed:  1.1min\n",
      "[Parallel(n_jobs=-1)]: Done 640 tasks      | elapsed:  1.8min\n",
      "[Parallel(n_jobs=-1)]: Done 1000 out of 1000 | elapsed:  2.9min finished\n"
     ]
    },
    {
     "data": {
      "text/html": [
       "<div>\n",
       "<style scoped>\n",
       "    .dataframe tbody tr th:only-of-type {\n",
       "        vertical-align: middle;\n",
       "    }\n",
       "\n",
       "    .dataframe tbody tr th {\n",
       "        vertical-align: top;\n",
       "    }\n",
       "\n",
       "    .dataframe thead th {\n",
       "        text-align: right;\n",
       "    }\n",
       "</style>\n",
       "<table border=\"1\" class=\"dataframe\">\n",
       "  <thead>\n",
       "    <tr style=\"text-align: right;\">\n",
       "      <th></th>\n",
       "      <th>dr</th>\n",
       "      <th>tmle</th>\n",
       "      <th>direct</th>\n",
       "    </tr>\n",
       "  </thead>\n",
       "  <tbody>\n",
       "    <tr>\n",
       "      <th>cov95</th>\n",
       "      <td>95</td>\n",
       "      <td>95</td>\n",
       "      <td>95</td>\n",
       "    </tr>\n",
       "    <tr>\n",
       "      <th>cov99</th>\n",
       "      <td>99</td>\n",
       "      <td>99</td>\n",
       "      <td>99</td>\n",
       "    </tr>\n",
       "    <tr>\n",
       "      <th>rmse</th>\n",
       "      <td>0.086</td>\n",
       "      <td>1.152</td>\n",
       "      <td>0.061</td>\n",
       "    </tr>\n",
       "    <tr>\n",
       "      <th>bias</th>\n",
       "      <td>0.006</td>\n",
       "      <td>0.025</td>\n",
       "      <td>0.015</td>\n",
       "    </tr>\n",
       "  </tbody>\n",
       "</table>\n",
       "</div>"
      ],
      "text/plain": [
       "          dr   tmle direct\n",
       "cov95     95     95     95\n",
       "cov99     99     99     99\n",
       "rmse   0.086  1.152  0.061\n",
       "bias   0.006  0.025  0.015"
      ]
     },
     "metadata": {},
     "output_type": "display_data"
    },
    {
     "name": "stderr",
     "output_type": "stream",
     "text": [
      "[Parallel(n_jobs=-1)]: Using backend LokyBackend with 80 concurrent workers.\n"
     ]
    },
    {
     "name": "stdout",
     "output_type": "stream",
     "text": [
      "500 abs 0.5 0.1 0.0003265057188871935\n"
     ]
    },
    {
     "name": "stderr",
     "output_type": "stream",
     "text": [
      "[Parallel(n_jobs=-1)]: Done 128 tasks      | elapsed:   24.2s\n",
      "[Parallel(n_jobs=-1)]: Done 352 tasks      | elapsed:  1.0min\n",
      "[Parallel(n_jobs=-1)]: Done 640 tasks      | elapsed:  1.6min\n",
      "[Parallel(n_jobs=-1)]: Done 1000 out of 1000 | elapsed:  2.6min finished\n"
     ]
    },
    {
     "data": {
      "text/html": [
       "<div>\n",
       "<style scoped>\n",
       "    .dataframe tbody tr th:only-of-type {\n",
       "        vertical-align: middle;\n",
       "    }\n",
       "\n",
       "    .dataframe tbody tr th {\n",
       "        vertical-align: top;\n",
       "    }\n",
       "\n",
       "    .dataframe thead th {\n",
       "        text-align: right;\n",
       "    }\n",
       "</style>\n",
       "<table border=\"1\" class=\"dataframe\">\n",
       "  <thead>\n",
       "    <tr style=\"text-align: right;\">\n",
       "      <th></th>\n",
       "      <th>dr</th>\n",
       "      <th>tmle</th>\n",
       "      <th>direct</th>\n",
       "    </tr>\n",
       "  </thead>\n",
       "  <tbody>\n",
       "    <tr>\n",
       "      <th>cov95</th>\n",
       "      <td>94</td>\n",
       "      <td>97</td>\n",
       "      <td>97</td>\n",
       "    </tr>\n",
       "    <tr>\n",
       "      <th>cov99</th>\n",
       "      <td>98</td>\n",
       "      <td>99</td>\n",
       "      <td>99</td>\n",
       "    </tr>\n",
       "    <tr>\n",
       "      <th>rmse</th>\n",
       "      <td>0.080</td>\n",
       "      <td>1.997</td>\n",
       "      <td>0.049</td>\n",
       "    </tr>\n",
       "    <tr>\n",
       "      <th>bias</th>\n",
       "      <td>0.002</td>\n",
       "      <td>0.057</td>\n",
       "      <td>0.001</td>\n",
       "    </tr>\n",
       "  </tbody>\n",
       "</table>\n",
       "</div>"
      ],
      "text/plain": [
       "          dr   tmle direct\n",
       "cov95     94     97     97\n",
       "cov99     98     99     99\n",
       "rmse   0.080  1.997  0.049\n",
       "bias   0.002  0.057  0.001"
      ]
     },
     "metadata": {},
     "output_type": "display_data"
    },
    {
     "name": "stderr",
     "output_type": "stream",
     "text": [
      "[Parallel(n_jobs=-1)]: Using backend LokyBackend with 80 concurrent workers.\n"
     ]
    },
    {
     "name": "stdout",
     "output_type": "stream",
     "text": [
      "1000 abs 0.5 0.1 0.0003265057188871935\n"
     ]
    },
    {
     "name": "stderr",
     "output_type": "stream",
     "text": [
      "[Parallel(n_jobs=-1)]: Done 128 tasks      | elapsed:   25.2s\n",
      "[Parallel(n_jobs=-1)]: Done 352 tasks      | elapsed:  1.0min\n",
      "[Parallel(n_jobs=-1)]: Done 640 tasks      | elapsed:  1.7min\n",
      "[Parallel(n_jobs=-1)]: Done 1000 out of 1000 | elapsed:  2.7min finished\n"
     ]
    },
    {
     "data": {
      "text/html": [
       "<div>\n",
       "<style scoped>\n",
       "    .dataframe tbody tr th:only-of-type {\n",
       "        vertical-align: middle;\n",
       "    }\n",
       "\n",
       "    .dataframe tbody tr th {\n",
       "        vertical-align: top;\n",
       "    }\n",
       "\n",
       "    .dataframe thead th {\n",
       "        text-align: right;\n",
       "    }\n",
       "</style>\n",
       "<table border=\"1\" class=\"dataframe\">\n",
       "  <thead>\n",
       "    <tr style=\"text-align: right;\">\n",
       "      <th></th>\n",
       "      <th>dr</th>\n",
       "      <th>tmle</th>\n",
       "      <th>direct</th>\n",
       "    </tr>\n",
       "  </thead>\n",
       "  <tbody>\n",
       "    <tr>\n",
       "      <th>cov95</th>\n",
       "      <td>93</td>\n",
       "      <td>96</td>\n",
       "      <td>96</td>\n",
       "    </tr>\n",
       "    <tr>\n",
       "      <th>cov99</th>\n",
       "      <td>98</td>\n",
       "      <td>99</td>\n",
       "      <td>99</td>\n",
       "    </tr>\n",
       "    <tr>\n",
       "      <th>rmse</th>\n",
       "      <td>0.054</td>\n",
       "      <td>4.351</td>\n",
       "      <td>0.038</td>\n",
       "    </tr>\n",
       "    <tr>\n",
       "      <th>bias</th>\n",
       "      <td>0.003</td>\n",
       "      <td>0.154</td>\n",
       "      <td>0.002</td>\n",
       "    </tr>\n",
       "  </tbody>\n",
       "</table>\n",
       "</div>"
      ],
      "text/plain": [
       "          dr   tmle direct\n",
       "cov95     93     96     96\n",
       "cov99     98     99     99\n",
       "rmse   0.054  4.351  0.038\n",
       "bias   0.003  0.154  0.002"
      ]
     },
     "metadata": {},
     "output_type": "display_data"
    },
    {
     "name": "stderr",
     "output_type": "stream",
     "text": [
      "[Parallel(n_jobs=-1)]: Using backend LokyBackend with 80 concurrent workers.\n"
     ]
    },
    {
     "name": "stdout",
     "output_type": "stream",
     "text": [
      "2000 abs 0.5 0.1 0.0003265057188871935\n"
     ]
    },
    {
     "name": "stderr",
     "output_type": "stream",
     "text": [
      "[Parallel(n_jobs=-1)]: Done 128 tasks      | elapsed:   27.1s\n",
      "[Parallel(n_jobs=-1)]: Done 352 tasks      | elapsed:  1.1min\n",
      "[Parallel(n_jobs=-1)]: Done 640 tasks      | elapsed:  1.8min\n",
      "[Parallel(n_jobs=-1)]: Done 1000 out of 1000 | elapsed:  2.9min finished\n"
     ]
    },
    {
     "data": {
      "text/html": [
       "<div>\n",
       "<style scoped>\n",
       "    .dataframe tbody tr th:only-of-type {\n",
       "        vertical-align: middle;\n",
       "    }\n",
       "\n",
       "    .dataframe tbody tr th {\n",
       "        vertical-align: top;\n",
       "    }\n",
       "\n",
       "    .dataframe thead th {\n",
       "        text-align: right;\n",
       "    }\n",
       "</style>\n",
       "<table border=\"1\" class=\"dataframe\">\n",
       "  <thead>\n",
       "    <tr style=\"text-align: right;\">\n",
       "      <th></th>\n",
       "      <th>dr</th>\n",
       "      <th>tmle</th>\n",
       "      <th>direct</th>\n",
       "    </tr>\n",
       "  </thead>\n",
       "  <tbody>\n",
       "    <tr>\n",
       "      <th>cov95</th>\n",
       "      <td>92</td>\n",
       "      <td>96</td>\n",
       "      <td>96</td>\n",
       "    </tr>\n",
       "    <tr>\n",
       "      <th>cov99</th>\n",
       "      <td>98</td>\n",
       "      <td>99</td>\n",
       "      <td>99</td>\n",
       "    </tr>\n",
       "    <tr>\n",
       "      <th>rmse</th>\n",
       "      <td>0.037</td>\n",
       "      <td>1.292</td>\n",
       "      <td>0.028</td>\n",
       "    </tr>\n",
       "    <tr>\n",
       "      <th>bias</th>\n",
       "      <td>0.004</td>\n",
       "      <td>0.044</td>\n",
       "      <td>0.003</td>\n",
       "    </tr>\n",
       "  </tbody>\n",
       "</table>\n",
       "</div>"
      ],
      "text/plain": [
       "          dr   tmle direct\n",
       "cov95     92     96     96\n",
       "cov99     98     99     99\n",
       "rmse   0.037  1.292  0.028\n",
       "bias   0.004  0.044  0.003"
      ]
     },
     "metadata": {},
     "output_type": "display_data"
    },
    {
     "name": "stdout",
     "output_type": "stream",
     "text": [
      "500 abs 0.5 0.3 0.00066860057958586\n"
     ]
    },
    {
     "name": "stderr",
     "output_type": "stream",
     "text": [
      "[Parallel(n_jobs=-1)]: Using backend LokyBackend with 80 concurrent workers.\n",
      "[Parallel(n_jobs=-1)]: Done 128 tasks      | elapsed:   24.4s\n",
      "[Parallel(n_jobs=-1)]: Done 352 tasks      | elapsed:  1.0min\n",
      "[Parallel(n_jobs=-1)]: Done 640 tasks      | elapsed:  1.6min\n",
      "[Parallel(n_jobs=-1)]: Done 1000 out of 1000 | elapsed:  2.6min finished\n"
     ]
    },
    {
     "data": {
      "text/html": [
       "<div>\n",
       "<style scoped>\n",
       "    .dataframe tbody tr th:only-of-type {\n",
       "        vertical-align: middle;\n",
       "    }\n",
       "\n",
       "    .dataframe tbody tr th {\n",
       "        vertical-align: top;\n",
       "    }\n",
       "\n",
       "    .dataframe thead th {\n",
       "        text-align: right;\n",
       "    }\n",
       "</style>\n",
       "<table border=\"1\" class=\"dataframe\">\n",
       "  <thead>\n",
       "    <tr style=\"text-align: right;\">\n",
       "      <th></th>\n",
       "      <th>dr</th>\n",
       "      <th>tmle</th>\n",
       "      <th>direct</th>\n",
       "    </tr>\n",
       "  </thead>\n",
       "  <tbody>\n",
       "    <tr>\n",
       "      <th>cov95</th>\n",
       "      <td>94</td>\n",
       "      <td>97</td>\n",
       "      <td>97</td>\n",
       "    </tr>\n",
       "    <tr>\n",
       "      <th>cov99</th>\n",
       "      <td>99</td>\n",
       "      <td>100</td>\n",
       "      <td>100</td>\n",
       "    </tr>\n",
       "    <tr>\n",
       "      <th>rmse</th>\n",
       "      <td>0.092</td>\n",
       "      <td>2.076</td>\n",
       "      <td>0.052</td>\n",
       "    </tr>\n",
       "    <tr>\n",
       "      <th>bias</th>\n",
       "      <td>0.006</td>\n",
       "      <td>0.007</td>\n",
       "      <td>0.006</td>\n",
       "    </tr>\n",
       "  </tbody>\n",
       "</table>\n",
       "</div>"
      ],
      "text/plain": [
       "          dr   tmle direct\n",
       "cov95     94     97     97\n",
       "cov99     99    100    100\n",
       "rmse   0.092  2.076  0.052\n",
       "bias   0.006  0.007  0.006"
      ]
     },
     "metadata": {},
     "output_type": "display_data"
    },
    {
     "name": "stderr",
     "output_type": "stream",
     "text": [
      "[Parallel(n_jobs=-1)]: Using backend LokyBackend with 80 concurrent workers.\n"
     ]
    },
    {
     "name": "stdout",
     "output_type": "stream",
     "text": [
      "1000 abs 0.5 0.3 0.00066860057958586\n"
     ]
    },
    {
     "name": "stderr",
     "output_type": "stream",
     "text": [
      "[Parallel(n_jobs=-1)]: Done 128 tasks      | elapsed:   25.2s\n",
      "[Parallel(n_jobs=-1)]: Done 352 tasks      | elapsed:  1.0min\n",
      "[Parallel(n_jobs=-1)]: Done 640 tasks      | elapsed:  1.7min\n",
      "[Parallel(n_jobs=-1)]: Done 1000 out of 1000 | elapsed:  2.7min finished\n"
     ]
    },
    {
     "data": {
      "text/html": [
       "<div>\n",
       "<style scoped>\n",
       "    .dataframe tbody tr th:only-of-type {\n",
       "        vertical-align: middle;\n",
       "    }\n",
       "\n",
       "    .dataframe tbody tr th {\n",
       "        vertical-align: top;\n",
       "    }\n",
       "\n",
       "    .dataframe thead th {\n",
       "        text-align: right;\n",
       "    }\n",
       "</style>\n",
       "<table border=\"1\" class=\"dataframe\">\n",
       "  <thead>\n",
       "    <tr style=\"text-align: right;\">\n",
       "      <th></th>\n",
       "      <th>dr</th>\n",
       "      <th>tmle</th>\n",
       "      <th>direct</th>\n",
       "    </tr>\n",
       "  </thead>\n",
       "  <tbody>\n",
       "    <tr>\n",
       "      <th>cov95</th>\n",
       "      <td>94</td>\n",
       "      <td>96</td>\n",
       "      <td>96</td>\n",
       "    </tr>\n",
       "    <tr>\n",
       "      <th>cov99</th>\n",
       "      <td>98</td>\n",
       "      <td>100</td>\n",
       "      <td>100</td>\n",
       "    </tr>\n",
       "    <tr>\n",
       "      <th>rmse</th>\n",
       "      <td>0.061</td>\n",
       "      <td>0.673</td>\n",
       "      <td>0.038</td>\n",
       "    </tr>\n",
       "    <tr>\n",
       "      <th>bias</th>\n",
       "      <td>0.004</td>\n",
       "      <td>0.005</td>\n",
       "      <td>0.002</td>\n",
       "    </tr>\n",
       "  </tbody>\n",
       "</table>\n",
       "</div>"
      ],
      "text/plain": [
       "          dr   tmle direct\n",
       "cov95     94     96     96\n",
       "cov99     98    100    100\n",
       "rmse   0.061  0.673  0.038\n",
       "bias   0.004  0.005  0.002"
      ]
     },
     "metadata": {},
     "output_type": "display_data"
    },
    {
     "name": "stderr",
     "output_type": "stream",
     "text": [
      "[Parallel(n_jobs=-1)]: Using backend LokyBackend with 80 concurrent workers.\n"
     ]
    },
    {
     "name": "stdout",
     "output_type": "stream",
     "text": [
      "2000 abs 0.5 0.3 0.00066860057958586\n"
     ]
    },
    {
     "name": "stderr",
     "output_type": "stream",
     "text": [
      "[Parallel(n_jobs=-1)]: Done 128 tasks      | elapsed:   27.1s\n",
      "[Parallel(n_jobs=-1)]: Done 352 tasks      | elapsed:  1.1min\n",
      "[Parallel(n_jobs=-1)]: Done 640 tasks      | elapsed:  1.8min\n",
      "[Parallel(n_jobs=-1)]: Done 1000 out of 1000 | elapsed:  2.9min finished\n"
     ]
    },
    {
     "data": {
      "text/html": [
       "<div>\n",
       "<style scoped>\n",
       "    .dataframe tbody tr th:only-of-type {\n",
       "        vertical-align: middle;\n",
       "    }\n",
       "\n",
       "    .dataframe tbody tr th {\n",
       "        vertical-align: top;\n",
       "    }\n",
       "\n",
       "    .dataframe thead th {\n",
       "        text-align: right;\n",
       "    }\n",
       "</style>\n",
       "<table border=\"1\" class=\"dataframe\">\n",
       "  <thead>\n",
       "    <tr style=\"text-align: right;\">\n",
       "      <th></th>\n",
       "      <th>dr</th>\n",
       "      <th>tmle</th>\n",
       "      <th>direct</th>\n",
       "    </tr>\n",
       "  </thead>\n",
       "  <tbody>\n",
       "    <tr>\n",
       "      <th>cov95</th>\n",
       "      <td>96</td>\n",
       "      <td>98</td>\n",
       "      <td>98</td>\n",
       "    </tr>\n",
       "    <tr>\n",
       "      <th>cov99</th>\n",
       "      <td>99</td>\n",
       "      <td>99</td>\n",
       "      <td>99</td>\n",
       "    </tr>\n",
       "    <tr>\n",
       "      <th>rmse</th>\n",
       "      <td>0.042</td>\n",
       "      <td>0.931</td>\n",
       "      <td>0.029</td>\n",
       "    </tr>\n",
       "    <tr>\n",
       "      <th>bias</th>\n",
       "      <td>0.001</td>\n",
       "      <td>0.005</td>\n",
       "      <td>0.001</td>\n",
       "    </tr>\n",
       "  </tbody>\n",
       "</table>\n",
       "</div>"
      ],
      "text/plain": [
       "          dr   tmle direct\n",
       "cov95     96     98     98\n",
       "cov99     99     99     99\n",
       "rmse   0.042  0.931  0.029\n",
       "bias   0.001  0.005  0.001"
      ]
     },
     "metadata": {},
     "output_type": "display_data"
    },
    {
     "name": "stdout",
     "output_type": "stream",
     "text": [
      "500 2dpoly 0.2 0.1 -0.8185401941888014\n"
     ]
    },
    {
     "name": "stderr",
     "output_type": "stream",
     "text": [
      "[Parallel(n_jobs=-1)]: Using backend LokyBackend with 80 concurrent workers.\n",
      "[Parallel(n_jobs=-1)]: Done 128 tasks      | elapsed:   24.3s\n",
      "[Parallel(n_jobs=-1)]: Done 352 tasks      | elapsed:  1.0min\n",
      "[Parallel(n_jobs=-1)]: Done 640 tasks      | elapsed:  1.6min\n",
      "[Parallel(n_jobs=-1)]: Done 1000 out of 1000 | elapsed:  2.6min finished\n"
     ]
    },
    {
     "data": {
      "text/html": [
       "<div>\n",
       "<style scoped>\n",
       "    .dataframe tbody tr th:only-of-type {\n",
       "        vertical-align: middle;\n",
       "    }\n",
       "\n",
       "    .dataframe tbody tr th {\n",
       "        vertical-align: top;\n",
       "    }\n",
       "\n",
       "    .dataframe thead th {\n",
       "        text-align: right;\n",
       "    }\n",
       "</style>\n",
       "<table border=\"1\" class=\"dataframe\">\n",
       "  <thead>\n",
       "    <tr style=\"text-align: right;\">\n",
       "      <th></th>\n",
       "      <th>dr</th>\n",
       "      <th>tmle</th>\n",
       "      <th>direct</th>\n",
       "    </tr>\n",
       "  </thead>\n",
       "  <tbody>\n",
       "    <tr>\n",
       "      <th>cov95</th>\n",
       "      <td>94</td>\n",
       "      <td>94</td>\n",
       "      <td>94</td>\n",
       "    </tr>\n",
       "    <tr>\n",
       "      <th>cov99</th>\n",
       "      <td>98</td>\n",
       "      <td>99</td>\n",
       "      <td>99</td>\n",
       "    </tr>\n",
       "    <tr>\n",
       "      <th>rmse</th>\n",
       "      <td>0.188</td>\n",
       "      <td>2.941</td>\n",
       "      <td>0.222</td>\n",
       "    </tr>\n",
       "    <tr>\n",
       "      <th>bias</th>\n",
       "      <td>0.025</td>\n",
       "      <td>0.185</td>\n",
       "      <td>0.192</td>\n",
       "    </tr>\n",
       "  </tbody>\n",
       "</table>\n",
       "</div>"
      ],
      "text/plain": [
       "          dr   tmle direct\n",
       "cov95     94     94     94\n",
       "cov99     98     99     99\n",
       "rmse   0.188  2.941  0.222\n",
       "bias   0.025  0.185  0.192"
      ]
     },
     "metadata": {},
     "output_type": "display_data"
    },
    {
     "name": "stderr",
     "output_type": "stream",
     "text": [
      "[Parallel(n_jobs=-1)]: Using backend LokyBackend with 80 concurrent workers.\n"
     ]
    },
    {
     "name": "stdout",
     "output_type": "stream",
     "text": [
      "1000 2dpoly 0.2 0.1 -0.8185401941888014\n"
     ]
    },
    {
     "name": "stderr",
     "output_type": "stream",
     "text": [
      "[Parallel(n_jobs=-1)]: Done 128 tasks      | elapsed:   24.9s\n",
      "[Parallel(n_jobs=-1)]: Done 352 tasks      | elapsed:  1.0min\n",
      "[Parallel(n_jobs=-1)]: Done 640 tasks      | elapsed:  1.7min\n",
      "[Parallel(n_jobs=-1)]: Done 1000 out of 1000 | elapsed:  2.7min finished\n"
     ]
    },
    {
     "data": {
      "text/html": [
       "<div>\n",
       "<style scoped>\n",
       "    .dataframe tbody tr th:only-of-type {\n",
       "        vertical-align: middle;\n",
       "    }\n",
       "\n",
       "    .dataframe tbody tr th {\n",
       "        vertical-align: top;\n",
       "    }\n",
       "\n",
       "    .dataframe thead th {\n",
       "        text-align: right;\n",
       "    }\n",
       "</style>\n",
       "<table border=\"1\" class=\"dataframe\">\n",
       "  <thead>\n",
       "    <tr style=\"text-align: right;\">\n",
       "      <th></th>\n",
       "      <th>dr</th>\n",
       "      <th>tmle</th>\n",
       "      <th>direct</th>\n",
       "    </tr>\n",
       "  </thead>\n",
       "  <tbody>\n",
       "    <tr>\n",
       "      <th>cov95</th>\n",
       "      <td>95</td>\n",
       "      <td>94</td>\n",
       "      <td>94</td>\n",
       "    </tr>\n",
       "    <tr>\n",
       "      <th>cov99</th>\n",
       "      <td>99</td>\n",
       "      <td>99</td>\n",
       "      <td>99</td>\n",
       "    </tr>\n",
       "    <tr>\n",
       "      <th>rmse</th>\n",
       "      <td>0.118</td>\n",
       "      <td>1.855</td>\n",
       "      <td>0.111</td>\n",
       "    </tr>\n",
       "    <tr>\n",
       "      <th>bias</th>\n",
       "      <td>0.013</td>\n",
       "      <td>0.045</td>\n",
       "      <td>0.074</td>\n",
       "    </tr>\n",
       "  </tbody>\n",
       "</table>\n",
       "</div>"
      ],
      "text/plain": [
       "          dr   tmle direct\n",
       "cov95     95     94     94\n",
       "cov99     99     99     99\n",
       "rmse   0.118  1.855  0.111\n",
       "bias   0.013  0.045  0.074"
      ]
     },
     "metadata": {},
     "output_type": "display_data"
    },
    {
     "name": "stderr",
     "output_type": "stream",
     "text": [
      "[Parallel(n_jobs=-1)]: Using backend LokyBackend with 80 concurrent workers.\n"
     ]
    },
    {
     "name": "stdout",
     "output_type": "stream",
     "text": [
      "2000 2dpoly 0.2 0.1 -0.8185401941888014\n"
     ]
    },
    {
     "name": "stderr",
     "output_type": "stream",
     "text": [
      "[Parallel(n_jobs=-1)]: Done 128 tasks      | elapsed:   27.1s\n",
      "[Parallel(n_jobs=-1)]: Done 352 tasks      | elapsed:  1.1min\n",
      "[Parallel(n_jobs=-1)]: Done 640 tasks      | elapsed:  1.8min\n",
      "[Parallel(n_jobs=-1)]: Done 1000 out of 1000 | elapsed:  2.9min finished\n"
     ]
    },
    {
     "data": {
      "text/html": [
       "<div>\n",
       "<style scoped>\n",
       "    .dataframe tbody tr th:only-of-type {\n",
       "        vertical-align: middle;\n",
       "    }\n",
       "\n",
       "    .dataframe tbody tr th {\n",
       "        vertical-align: top;\n",
       "    }\n",
       "\n",
       "    .dataframe thead th {\n",
       "        text-align: right;\n",
       "    }\n",
       "</style>\n",
       "<table border=\"1\" class=\"dataframe\">\n",
       "  <thead>\n",
       "    <tr style=\"text-align: right;\">\n",
       "      <th></th>\n",
       "      <th>dr</th>\n",
       "      <th>tmle</th>\n",
       "      <th>direct</th>\n",
       "    </tr>\n",
       "  </thead>\n",
       "  <tbody>\n",
       "    <tr>\n",
       "      <th>cov95</th>\n",
       "      <td>96</td>\n",
       "      <td>95</td>\n",
       "      <td>95</td>\n",
       "    </tr>\n",
       "    <tr>\n",
       "      <th>cov99</th>\n",
       "      <td>99</td>\n",
       "      <td>99</td>\n",
       "      <td>99</td>\n",
       "    </tr>\n",
       "    <tr>\n",
       "      <th>rmse</th>\n",
       "      <td>0.082</td>\n",
       "      <td>0.514</td>\n",
       "      <td>0.066</td>\n",
       "    </tr>\n",
       "    <tr>\n",
       "      <th>bias</th>\n",
       "      <td>0.008</td>\n",
       "      <td>0.008</td>\n",
       "      <td>0.025</td>\n",
       "    </tr>\n",
       "  </tbody>\n",
       "</table>\n",
       "</div>"
      ],
      "text/plain": [
       "          dr   tmle direct\n",
       "cov95     96     95     95\n",
       "cov99     99     99     99\n",
       "rmse   0.082  0.514  0.066\n",
       "bias   0.008  0.008  0.025"
      ]
     },
     "metadata": {},
     "output_type": "display_data"
    },
    {
     "name": "stdout",
     "output_type": "stream",
     "text": [
      "500 2dpoly 0.2 0.3 -1.0462858494618295\n"
     ]
    },
    {
     "name": "stderr",
     "output_type": "stream",
     "text": [
      "[Parallel(n_jobs=-1)]: Using backend LokyBackend with 80 concurrent workers.\n",
      "[Parallel(n_jobs=-1)]: Done 128 tasks      | elapsed:   24.4s\n",
      "[Parallel(n_jobs=-1)]: Done 352 tasks      | elapsed:  1.0min\n",
      "[Parallel(n_jobs=-1)]: Done 640 tasks      | elapsed:  1.6min\n",
      "[Parallel(n_jobs=-1)]: Done 1000 out of 1000 | elapsed:  2.6min finished\n"
     ]
    },
    {
     "data": {
      "text/html": [
       "<div>\n",
       "<style scoped>\n",
       "    .dataframe tbody tr th:only-of-type {\n",
       "        vertical-align: middle;\n",
       "    }\n",
       "\n",
       "    .dataframe tbody tr th {\n",
       "        vertical-align: top;\n",
       "    }\n",
       "\n",
       "    .dataframe thead th {\n",
       "        text-align: right;\n",
       "    }\n",
       "</style>\n",
       "<table border=\"1\" class=\"dataframe\">\n",
       "  <thead>\n",
       "    <tr style=\"text-align: right;\">\n",
       "      <th></th>\n",
       "      <th>dr</th>\n",
       "      <th>tmle</th>\n",
       "      <th>direct</th>\n",
       "    </tr>\n",
       "  </thead>\n",
       "  <tbody>\n",
       "    <tr>\n",
       "      <th>cov95</th>\n",
       "      <td>92</td>\n",
       "      <td>94</td>\n",
       "      <td>94</td>\n",
       "    </tr>\n",
       "    <tr>\n",
       "      <th>cov99</th>\n",
       "      <td>97</td>\n",
       "      <td>99</td>\n",
       "      <td>99</td>\n",
       "    </tr>\n",
       "    <tr>\n",
       "      <th>rmse</th>\n",
       "      <td>0.261</td>\n",
       "      <td>5.065</td>\n",
       "      <td>0.406</td>\n",
       "    </tr>\n",
       "    <tr>\n",
       "      <th>bias</th>\n",
       "      <td>0.055</td>\n",
       "      <td>0.014</td>\n",
       "      <td>0.390</td>\n",
       "    </tr>\n",
       "  </tbody>\n",
       "</table>\n",
       "</div>"
      ],
      "text/plain": [
       "          dr   tmle direct\n",
       "cov95     92     94     94\n",
       "cov99     97     99     99\n",
       "rmse   0.261  5.065  0.406\n",
       "bias   0.055  0.014  0.390"
      ]
     },
     "metadata": {},
     "output_type": "display_data"
    },
    {
     "name": "stderr",
     "output_type": "stream",
     "text": [
      "[Parallel(n_jobs=-1)]: Using backend LokyBackend with 80 concurrent workers.\n"
     ]
    },
    {
     "name": "stdout",
     "output_type": "stream",
     "text": [
      "1000 2dpoly 0.2 0.3 -1.0462858494618295\n"
     ]
    },
    {
     "name": "stderr",
     "output_type": "stream",
     "text": [
      "[Parallel(n_jobs=-1)]: Done 128 tasks      | elapsed:   25.2s\n",
      "[Parallel(n_jobs=-1)]: Done 352 tasks      | elapsed:  1.0min\n",
      "[Parallel(n_jobs=-1)]: Done 640 tasks      | elapsed:  1.7min\n",
      "[Parallel(n_jobs=-1)]: Done 1000 out of 1000 | elapsed:  2.7min finished\n"
     ]
    },
    {
     "data": {
      "text/html": [
       "<div>\n",
       "<style scoped>\n",
       "    .dataframe tbody tr th:only-of-type {\n",
       "        vertical-align: middle;\n",
       "    }\n",
       "\n",
       "    .dataframe tbody tr th {\n",
       "        vertical-align: top;\n",
       "    }\n",
       "\n",
       "    .dataframe thead th {\n",
       "        text-align: right;\n",
       "    }\n",
       "</style>\n",
       "<table border=\"1\" class=\"dataframe\">\n",
       "  <thead>\n",
       "    <tr style=\"text-align: right;\">\n",
       "      <th></th>\n",
       "      <th>dr</th>\n",
       "      <th>tmle</th>\n",
       "      <th>direct</th>\n",
       "    </tr>\n",
       "  </thead>\n",
       "  <tbody>\n",
       "    <tr>\n",
       "      <th>cov95</th>\n",
       "      <td>93</td>\n",
       "      <td>93</td>\n",
       "      <td>93</td>\n",
       "    </tr>\n",
       "    <tr>\n",
       "      <th>cov99</th>\n",
       "      <td>97</td>\n",
       "      <td>98</td>\n",
       "      <td>98</td>\n",
       "    </tr>\n",
       "    <tr>\n",
       "      <th>rmse</th>\n",
       "      <td>0.186</td>\n",
       "      <td>3.051</td>\n",
       "      <td>0.187</td>\n",
       "    </tr>\n",
       "    <tr>\n",
       "      <th>bias</th>\n",
       "      <td>0.026</td>\n",
       "      <td>0.126</td>\n",
       "      <td>0.144</td>\n",
       "    </tr>\n",
       "  </tbody>\n",
       "</table>\n",
       "</div>"
      ],
      "text/plain": [
       "          dr   tmle direct\n",
       "cov95     93     93     93\n",
       "cov99     97     98     98\n",
       "rmse   0.186  3.051  0.187\n",
       "bias   0.026  0.126  0.144"
      ]
     },
     "metadata": {},
     "output_type": "display_data"
    },
    {
     "name": "stderr",
     "output_type": "stream",
     "text": [
      "[Parallel(n_jobs=-1)]: Using backend LokyBackend with 80 concurrent workers.\n"
     ]
    },
    {
     "name": "stdout",
     "output_type": "stream",
     "text": [
      "2000 2dpoly 0.2 0.3 -1.0462858494618295\n"
     ]
    },
    {
     "name": "stderr",
     "output_type": "stream",
     "text": [
      "[Parallel(n_jobs=-1)]: Done 128 tasks      | elapsed:   27.1s\n",
      "[Parallel(n_jobs=-1)]: Done 352 tasks      | elapsed:  1.1min\n",
      "[Parallel(n_jobs=-1)]: Done 640 tasks      | elapsed:  1.8min\n",
      "[Parallel(n_jobs=-1)]: Done 1000 out of 1000 | elapsed:  2.9min finished\n"
     ]
    },
    {
     "data": {
      "text/html": [
       "<div>\n",
       "<style scoped>\n",
       "    .dataframe tbody tr th:only-of-type {\n",
       "        vertical-align: middle;\n",
       "    }\n",
       "\n",
       "    .dataframe tbody tr th {\n",
       "        vertical-align: top;\n",
       "    }\n",
       "\n",
       "    .dataframe thead th {\n",
       "        text-align: right;\n",
       "    }\n",
       "</style>\n",
       "<table border=\"1\" class=\"dataframe\">\n",
       "  <thead>\n",
       "    <tr style=\"text-align: right;\">\n",
       "      <th></th>\n",
       "      <th>dr</th>\n",
       "      <th>tmle</th>\n",
       "      <th>direct</th>\n",
       "    </tr>\n",
       "  </thead>\n",
       "  <tbody>\n",
       "    <tr>\n",
       "      <th>cov95</th>\n",
       "      <td>95</td>\n",
       "      <td>94</td>\n",
       "      <td>94</td>\n",
       "    </tr>\n",
       "    <tr>\n",
       "      <th>cov99</th>\n",
       "      <td>98</td>\n",
       "      <td>98</td>\n",
       "      <td>98</td>\n",
       "    </tr>\n",
       "    <tr>\n",
       "      <th>rmse</th>\n",
       "      <td>0.126</td>\n",
       "      <td>1.182</td>\n",
       "      <td>0.108</td>\n",
       "    </tr>\n",
       "    <tr>\n",
       "      <th>bias</th>\n",
       "      <td>0.007</td>\n",
       "      <td>0.042</td>\n",
       "      <td>0.062</td>\n",
       "    </tr>\n",
       "  </tbody>\n",
       "</table>\n",
       "</div>"
      ],
      "text/plain": [
       "          dr   tmle direct\n",
       "cov95     95     94     94\n",
       "cov99     98     98     98\n",
       "rmse   0.126  1.182  0.108\n",
       "bias   0.007  0.042  0.062"
      ]
     },
     "metadata": {},
     "output_type": "display_data"
    },
    {
     "name": "stdout",
     "output_type": "stream",
     "text": [
      "500 2dpoly 0.5 0.1 -0.5675457703338429\n"
     ]
    },
    {
     "name": "stderr",
     "output_type": "stream",
     "text": [
      "[Parallel(n_jobs=-1)]: Using backend LokyBackend with 80 concurrent workers.\n",
      "[Parallel(n_jobs=-1)]: Done 128 tasks      | elapsed:   24.5s\n",
      "[Parallel(n_jobs=-1)]: Done 352 tasks      | elapsed:  1.0min\n",
      "[Parallel(n_jobs=-1)]: Done 640 tasks      | elapsed:  1.6min\n",
      "[Parallel(n_jobs=-1)]: Done 1000 out of 1000 | elapsed:  2.6min finished\n"
     ]
    },
    {
     "data": {
      "text/html": [
       "<div>\n",
       "<style scoped>\n",
       "    .dataframe tbody tr th:only-of-type {\n",
       "        vertical-align: middle;\n",
       "    }\n",
       "\n",
       "    .dataframe tbody tr th {\n",
       "        vertical-align: top;\n",
       "    }\n",
       "\n",
       "    .dataframe thead th {\n",
       "        text-align: right;\n",
       "    }\n",
       "</style>\n",
       "<table border=\"1\" class=\"dataframe\">\n",
       "  <thead>\n",
       "    <tr style=\"text-align: right;\">\n",
       "      <th></th>\n",
       "      <th>dr</th>\n",
       "      <th>tmle</th>\n",
       "      <th>direct</th>\n",
       "    </tr>\n",
       "  </thead>\n",
       "  <tbody>\n",
       "    <tr>\n",
       "      <th>cov95</th>\n",
       "      <td>94</td>\n",
       "      <td>96</td>\n",
       "      <td>96</td>\n",
       "    </tr>\n",
       "    <tr>\n",
       "      <th>cov99</th>\n",
       "      <td>99</td>\n",
       "      <td>100</td>\n",
       "      <td>100</td>\n",
       "    </tr>\n",
       "    <tr>\n",
       "      <th>rmse</th>\n",
       "      <td>0.079</td>\n",
       "      <td>2.114</td>\n",
       "      <td>0.059</td>\n",
       "    </tr>\n",
       "    <tr>\n",
       "      <th>bias</th>\n",
       "      <td>0.024</td>\n",
       "      <td>0.074</td>\n",
       "      <td>0.023</td>\n",
       "    </tr>\n",
       "  </tbody>\n",
       "</table>\n",
       "</div>"
      ],
      "text/plain": [
       "          dr   tmle direct\n",
       "cov95     94     96     96\n",
       "cov99     99    100    100\n",
       "rmse   0.079  2.114  0.059\n",
       "bias   0.024  0.074  0.023"
      ]
     },
     "metadata": {},
     "output_type": "display_data"
    },
    {
     "name": "stderr",
     "output_type": "stream",
     "text": [
      "[Parallel(n_jobs=-1)]: Using backend LokyBackend with 80 concurrent workers.\n"
     ]
    },
    {
     "name": "stdout",
     "output_type": "stream",
     "text": [
      "1000 2dpoly 0.5 0.1 -0.5675457703338429\n"
     ]
    },
    {
     "name": "stderr",
     "output_type": "stream",
     "text": [
      "[Parallel(n_jobs=-1)]: Done 128 tasks      | elapsed:   25.1s\n",
      "[Parallel(n_jobs=-1)]: Done 352 tasks      | elapsed:  1.0min\n",
      "[Parallel(n_jobs=-1)]: Done 640 tasks      | elapsed:  1.7min\n",
      "[Parallel(n_jobs=-1)]: Done 1000 out of 1000 | elapsed:  2.7min finished\n"
     ]
    },
    {
     "data": {
      "text/html": [
       "<div>\n",
       "<style scoped>\n",
       "    .dataframe tbody tr th:only-of-type {\n",
       "        vertical-align: middle;\n",
       "    }\n",
       "\n",
       "    .dataframe tbody tr th {\n",
       "        vertical-align: top;\n",
       "    }\n",
       "\n",
       "    .dataframe thead th {\n",
       "        text-align: right;\n",
       "    }\n",
       "</style>\n",
       "<table border=\"1\" class=\"dataframe\">\n",
       "  <thead>\n",
       "    <tr style=\"text-align: right;\">\n",
       "      <th></th>\n",
       "      <th>dr</th>\n",
       "      <th>tmle</th>\n",
       "      <th>direct</th>\n",
       "    </tr>\n",
       "  </thead>\n",
       "  <tbody>\n",
       "    <tr>\n",
       "      <th>cov95</th>\n",
       "      <td>92</td>\n",
       "      <td>94</td>\n",
       "      <td>94</td>\n",
       "    </tr>\n",
       "    <tr>\n",
       "      <th>cov99</th>\n",
       "      <td>98</td>\n",
       "      <td>99</td>\n",
       "      <td>99</td>\n",
       "    </tr>\n",
       "    <tr>\n",
       "      <th>rmse</th>\n",
       "      <td>0.053</td>\n",
       "      <td>4.161</td>\n",
       "      <td>0.042</td>\n",
       "    </tr>\n",
       "    <tr>\n",
       "      <th>bias</th>\n",
       "      <td>0.014</td>\n",
       "      <td>0.176</td>\n",
       "      <td>0.013</td>\n",
       "    </tr>\n",
       "  </tbody>\n",
       "</table>\n",
       "</div>"
      ],
      "text/plain": [
       "          dr   tmle direct\n",
       "cov95     92     94     94\n",
       "cov99     98     99     99\n",
       "rmse   0.053  4.161  0.042\n",
       "bias   0.014  0.176  0.013"
      ]
     },
     "metadata": {},
     "output_type": "display_data"
    },
    {
     "name": "stderr",
     "output_type": "stream",
     "text": [
      "[Parallel(n_jobs=-1)]: Using backend LokyBackend with 80 concurrent workers.\n"
     ]
    },
    {
     "name": "stdout",
     "output_type": "stream",
     "text": [
      "2000 2dpoly 0.5 0.1 -0.5675457703338429\n"
     ]
    },
    {
     "name": "stderr",
     "output_type": "stream",
     "text": [
      "[Parallel(n_jobs=-1)]: Done 128 tasks      | elapsed:   27.2s\n",
      "[Parallel(n_jobs=-1)]: Done 352 tasks      | elapsed:  1.1min\n",
      "[Parallel(n_jobs=-1)]: Done 640 tasks      | elapsed:  1.8min\n",
      "[Parallel(n_jobs=-1)]: Done 1000 out of 1000 | elapsed:  2.9min finished\n"
     ]
    },
    {
     "data": {
      "text/html": [
       "<div>\n",
       "<style scoped>\n",
       "    .dataframe tbody tr th:only-of-type {\n",
       "        vertical-align: middle;\n",
       "    }\n",
       "\n",
       "    .dataframe tbody tr th {\n",
       "        vertical-align: top;\n",
       "    }\n",
       "\n",
       "    .dataframe thead th {\n",
       "        text-align: right;\n",
       "    }\n",
       "</style>\n",
       "<table border=\"1\" class=\"dataframe\">\n",
       "  <thead>\n",
       "    <tr style=\"text-align: right;\">\n",
       "      <th></th>\n",
       "      <th>dr</th>\n",
       "      <th>tmle</th>\n",
       "      <th>direct</th>\n",
       "    </tr>\n",
       "  </thead>\n",
       "  <tbody>\n",
       "    <tr>\n",
       "      <th>cov95</th>\n",
       "      <td>92</td>\n",
       "      <td>95</td>\n",
       "      <td>95</td>\n",
       "    </tr>\n",
       "    <tr>\n",
       "      <th>cov99</th>\n",
       "      <td>98</td>\n",
       "      <td>99</td>\n",
       "      <td>99</td>\n",
       "    </tr>\n",
       "    <tr>\n",
       "      <th>rmse</th>\n",
       "      <td>0.036</td>\n",
       "      <td>0.460</td>\n",
       "      <td>0.028</td>\n",
       "    </tr>\n",
       "    <tr>\n",
       "      <th>bias</th>\n",
       "      <td>0.010</td>\n",
       "      <td>0.029</td>\n",
       "      <td>0.009</td>\n",
       "    </tr>\n",
       "  </tbody>\n",
       "</table>\n",
       "</div>"
      ],
      "text/plain": [
       "          dr   tmle direct\n",
       "cov95     92     95     95\n",
       "cov99     98     99     99\n",
       "rmse   0.036  0.460  0.028\n",
       "bias   0.010  0.029  0.009"
      ]
     },
     "metadata": {},
     "output_type": "display_data"
    },
    {
     "name": "stdout",
     "output_type": "stream",
     "text": [
      "500 2dpoly 0.5 0.3 -0.5875408904428301\n"
     ]
    },
    {
     "name": "stderr",
     "output_type": "stream",
     "text": [
      "[Parallel(n_jobs=-1)]: Using backend LokyBackend with 80 concurrent workers.\n",
      "[Parallel(n_jobs=-1)]: Done 128 tasks      | elapsed:   24.4s\n",
      "[Parallel(n_jobs=-1)]: Done 352 tasks      | elapsed:  1.0min\n",
      "[Parallel(n_jobs=-1)]: Done 640 tasks      | elapsed:  1.6min\n",
      "[Parallel(n_jobs=-1)]: Done 1000 out of 1000 | elapsed:  2.6min finished\n"
     ]
    },
    {
     "data": {
      "text/html": [
       "<div>\n",
       "<style scoped>\n",
       "    .dataframe tbody tr th:only-of-type {\n",
       "        vertical-align: middle;\n",
       "    }\n",
       "\n",
       "    .dataframe tbody tr th {\n",
       "        vertical-align: top;\n",
       "    }\n",
       "\n",
       "    .dataframe thead th {\n",
       "        text-align: right;\n",
       "    }\n",
       "</style>\n",
       "<table border=\"1\" class=\"dataframe\">\n",
       "  <thead>\n",
       "    <tr style=\"text-align: right;\">\n",
       "      <th></th>\n",
       "      <th>dr</th>\n",
       "      <th>tmle</th>\n",
       "      <th>direct</th>\n",
       "    </tr>\n",
       "  </thead>\n",
       "  <tbody>\n",
       "    <tr>\n",
       "      <th>cov95</th>\n",
       "      <td>92</td>\n",
       "      <td>96</td>\n",
       "      <td>96</td>\n",
       "    </tr>\n",
       "    <tr>\n",
       "      <th>cov99</th>\n",
       "      <td>97</td>\n",
       "      <td>99</td>\n",
       "      <td>99</td>\n",
       "    </tr>\n",
       "    <tr>\n",
       "      <th>rmse</th>\n",
       "      <td>0.106</td>\n",
       "      <td>1.587</td>\n",
       "      <td>0.087</td>\n",
       "    </tr>\n",
       "    <tr>\n",
       "      <th>bias</th>\n",
       "      <td>0.023</td>\n",
       "      <td>0.002</td>\n",
       "      <td>0.052</td>\n",
       "    </tr>\n",
       "  </tbody>\n",
       "</table>\n",
       "</div>"
      ],
      "text/plain": [
       "          dr   tmle direct\n",
       "cov95     92     96     96\n",
       "cov99     97     99     99\n",
       "rmse   0.106  1.587  0.087\n",
       "bias   0.023  0.002  0.052"
      ]
     },
     "metadata": {},
     "output_type": "display_data"
    },
    {
     "name": "stderr",
     "output_type": "stream",
     "text": [
      "[Parallel(n_jobs=-1)]: Using backend LokyBackend with 80 concurrent workers.\n"
     ]
    },
    {
     "name": "stdout",
     "output_type": "stream",
     "text": [
      "1000 2dpoly 0.5 0.3 -0.5875408904428301\n"
     ]
    },
    {
     "name": "stderr",
     "output_type": "stream",
     "text": [
      "[Parallel(n_jobs=-1)]: Done 128 tasks      | elapsed:   25.0s\n",
      "[Parallel(n_jobs=-1)]: Done 352 tasks      | elapsed:  1.0min\n",
      "[Parallel(n_jobs=-1)]: Done 640 tasks      | elapsed:  1.7min\n",
      "[Parallel(n_jobs=-1)]: Done 1000 out of 1000 | elapsed:  2.7min finished\n"
     ]
    },
    {
     "data": {
      "text/html": [
       "<div>\n",
       "<style scoped>\n",
       "    .dataframe tbody tr th:only-of-type {\n",
       "        vertical-align: middle;\n",
       "    }\n",
       "\n",
       "    .dataframe tbody tr th {\n",
       "        vertical-align: top;\n",
       "    }\n",
       "\n",
       "    .dataframe thead th {\n",
       "        text-align: right;\n",
       "    }\n",
       "</style>\n",
       "<table border=\"1\" class=\"dataframe\">\n",
       "  <thead>\n",
       "    <tr style=\"text-align: right;\">\n",
       "      <th></th>\n",
       "      <th>dr</th>\n",
       "      <th>tmle</th>\n",
       "      <th>direct</th>\n",
       "    </tr>\n",
       "  </thead>\n",
       "  <tbody>\n",
       "    <tr>\n",
       "      <th>cov95</th>\n",
       "      <td>92</td>\n",
       "      <td>95</td>\n",
       "      <td>95</td>\n",
       "    </tr>\n",
       "    <tr>\n",
       "      <th>cov99</th>\n",
       "      <td>97</td>\n",
       "      <td>99</td>\n",
       "      <td>99</td>\n",
       "    </tr>\n",
       "    <tr>\n",
       "      <th>rmse</th>\n",
       "      <td>0.069</td>\n",
       "      <td>0.905</td>\n",
       "      <td>0.059</td>\n",
       "    </tr>\n",
       "    <tr>\n",
       "      <th>bias</th>\n",
       "      <td>0.011</td>\n",
       "      <td>0.030</td>\n",
       "      <td>0.031</td>\n",
       "    </tr>\n",
       "  </tbody>\n",
       "</table>\n",
       "</div>"
      ],
      "text/plain": [
       "          dr   tmle direct\n",
       "cov95     92     95     95\n",
       "cov99     97     99     99\n",
       "rmse   0.069  0.905  0.059\n",
       "bias   0.011  0.030  0.031"
      ]
     },
     "metadata": {},
     "output_type": "display_data"
    },
    {
     "name": "stderr",
     "output_type": "stream",
     "text": [
      "[Parallel(n_jobs=-1)]: Using backend LokyBackend with 80 concurrent workers.\n"
     ]
    },
    {
     "name": "stdout",
     "output_type": "stream",
     "text": [
      "2000 2dpoly 0.5 0.3 -0.5875408904428301\n"
     ]
    },
    {
     "name": "stderr",
     "output_type": "stream",
     "text": [
      "[Parallel(n_jobs=-1)]: Done 128 tasks      | elapsed:   27.2s\n",
      "[Parallel(n_jobs=-1)]: Done 352 tasks      | elapsed:  1.1min\n",
      "[Parallel(n_jobs=-1)]: Done 640 tasks      | elapsed:  1.8min\n",
      "[Parallel(n_jobs=-1)]: Done 1000 out of 1000 | elapsed:  2.9min finished\n"
     ]
    },
    {
     "data": {
      "text/html": [
       "<div>\n",
       "<style scoped>\n",
       "    .dataframe tbody tr th:only-of-type {\n",
       "        vertical-align: middle;\n",
       "    }\n",
       "\n",
       "    .dataframe tbody tr th {\n",
       "        vertical-align: top;\n",
       "    }\n",
       "\n",
       "    .dataframe thead th {\n",
       "        text-align: right;\n",
       "    }\n",
       "</style>\n",
       "<table border=\"1\" class=\"dataframe\">\n",
       "  <thead>\n",
       "    <tr style=\"text-align: right;\">\n",
       "      <th></th>\n",
       "      <th>dr</th>\n",
       "      <th>tmle</th>\n",
       "      <th>direct</th>\n",
       "    </tr>\n",
       "  </thead>\n",
       "  <tbody>\n",
       "    <tr>\n",
       "      <th>cov95</th>\n",
       "      <td>92</td>\n",
       "      <td>96</td>\n",
       "      <td>96</td>\n",
       "    </tr>\n",
       "    <tr>\n",
       "      <th>cov99</th>\n",
       "      <td>98</td>\n",
       "      <td>99</td>\n",
       "      <td>99</td>\n",
       "    </tr>\n",
       "    <tr>\n",
       "      <th>rmse</th>\n",
       "      <td>0.049</td>\n",
       "      <td>1.042</td>\n",
       "      <td>0.040</td>\n",
       "    </tr>\n",
       "    <tr>\n",
       "      <th>bias</th>\n",
       "      <td>0.009</td>\n",
       "      <td>0.022</td>\n",
       "      <td>0.018</td>\n",
       "    </tr>\n",
       "  </tbody>\n",
       "</table>\n",
       "</div>"
      ],
      "text/plain": [
       "          dr   tmle direct\n",
       "cov95     92     96     96\n",
       "cov99     98     99     99\n",
       "rmse   0.049  1.042  0.040\n",
       "bias   0.009  0.022  0.018"
      ]
     },
     "metadata": {},
     "output_type": "display_data"
    },
    {
     "name": "stdout",
     "output_type": "stream",
     "text": [
      "500 sigmoid 0.2 0.1 0.3843573070801452\n"
     ]
    },
    {
     "name": "stderr",
     "output_type": "stream",
     "text": [
      "[Parallel(n_jobs=-1)]: Using backend LokyBackend with 80 concurrent workers.\n",
      "[Parallel(n_jobs=-1)]: Done 128 tasks      | elapsed:   24.4s\n",
      "[Parallel(n_jobs=-1)]: Done 352 tasks      | elapsed:  1.0min\n",
      "[Parallel(n_jobs=-1)]: Done 640 tasks      | elapsed:  1.6min\n",
      "[Parallel(n_jobs=-1)]: Done 1000 out of 1000 | elapsed:  2.6min finished\n"
     ]
    },
    {
     "data": {
      "text/html": [
       "<div>\n",
       "<style scoped>\n",
       "    .dataframe tbody tr th:only-of-type {\n",
       "        vertical-align: middle;\n",
       "    }\n",
       "\n",
       "    .dataframe tbody tr th {\n",
       "        vertical-align: top;\n",
       "    }\n",
       "\n",
       "    .dataframe thead th {\n",
       "        text-align: right;\n",
       "    }\n",
       "</style>\n",
       "<table border=\"1\" class=\"dataframe\">\n",
       "  <thead>\n",
       "    <tr style=\"text-align: right;\">\n",
       "      <th></th>\n",
       "      <th>dr</th>\n",
       "      <th>tmle</th>\n",
       "      <th>direct</th>\n",
       "    </tr>\n",
       "  </thead>\n",
       "  <tbody>\n",
       "    <tr>\n",
       "      <th>cov95</th>\n",
       "      <td>95</td>\n",
       "      <td>96</td>\n",
       "      <td>96</td>\n",
       "    </tr>\n",
       "    <tr>\n",
       "      <th>cov99</th>\n",
       "      <td>99</td>\n",
       "      <td>99</td>\n",
       "      <td>99</td>\n",
       "    </tr>\n",
       "    <tr>\n",
       "      <th>rmse</th>\n",
       "      <td>0.164</td>\n",
       "      <td>3.537</td>\n",
       "      <td>0.106</td>\n",
       "    </tr>\n",
       "    <tr>\n",
       "      <th>bias</th>\n",
       "      <td>0.013</td>\n",
       "      <td>0.065</td>\n",
       "      <td>0.017</td>\n",
       "    </tr>\n",
       "  </tbody>\n",
       "</table>\n",
       "</div>"
      ],
      "text/plain": [
       "          dr   tmle direct\n",
       "cov95     95     96     96\n",
       "cov99     99     99     99\n",
       "rmse   0.164  3.537  0.106\n",
       "bias   0.013  0.065  0.017"
      ]
     },
     "metadata": {},
     "output_type": "display_data"
    },
    {
     "name": "stderr",
     "output_type": "stream",
     "text": [
      "[Parallel(n_jobs=-1)]: Using backend LokyBackend with 80 concurrent workers.\n"
     ]
    },
    {
     "name": "stdout",
     "output_type": "stream",
     "text": [
      "1000 sigmoid 0.2 0.1 0.3843573070801452\n"
     ]
    },
    {
     "name": "stderr",
     "output_type": "stream",
     "text": [
      "[Parallel(n_jobs=-1)]: Done 128 tasks      | elapsed:   25.0s\n",
      "[Parallel(n_jobs=-1)]: Done 352 tasks      | elapsed:  1.0min\n",
      "[Parallel(n_jobs=-1)]: Done 640 tasks      | elapsed:  1.7min\n",
      "[Parallel(n_jobs=-1)]: Done 1000 out of 1000 | elapsed:  2.7min finished\n"
     ]
    },
    {
     "data": {
      "text/html": [
       "<div>\n",
       "<style scoped>\n",
       "    .dataframe tbody tr th:only-of-type {\n",
       "        vertical-align: middle;\n",
       "    }\n",
       "\n",
       "    .dataframe tbody tr th {\n",
       "        vertical-align: top;\n",
       "    }\n",
       "\n",
       "    .dataframe thead th {\n",
       "        text-align: right;\n",
       "    }\n",
       "</style>\n",
       "<table border=\"1\" class=\"dataframe\">\n",
       "  <thead>\n",
       "    <tr style=\"text-align: right;\">\n",
       "      <th></th>\n",
       "      <th>dr</th>\n",
       "      <th>tmle</th>\n",
       "      <th>direct</th>\n",
       "    </tr>\n",
       "  </thead>\n",
       "  <tbody>\n",
       "    <tr>\n",
       "      <th>cov95</th>\n",
       "      <td>96</td>\n",
       "      <td>94</td>\n",
       "      <td>94</td>\n",
       "    </tr>\n",
       "    <tr>\n",
       "      <th>cov99</th>\n",
       "      <td>99</td>\n",
       "      <td>99</td>\n",
       "      <td>99</td>\n",
       "    </tr>\n",
       "    <tr>\n",
       "      <th>rmse</th>\n",
       "      <td>0.103</td>\n",
       "      <td>0.911</td>\n",
       "      <td>0.074</td>\n",
       "    </tr>\n",
       "    <tr>\n",
       "      <th>bias</th>\n",
       "      <td>0.007</td>\n",
       "      <td>0.009</td>\n",
       "      <td>0.009</td>\n",
       "    </tr>\n",
       "  </tbody>\n",
       "</table>\n",
       "</div>"
      ],
      "text/plain": [
       "          dr   tmle direct\n",
       "cov95     96     94     94\n",
       "cov99     99     99     99\n",
       "rmse   0.103  0.911  0.074\n",
       "bias   0.007  0.009  0.009"
      ]
     },
     "metadata": {},
     "output_type": "display_data"
    },
    {
     "name": "stderr",
     "output_type": "stream",
     "text": [
      "[Parallel(n_jobs=-1)]: Using backend LokyBackend with 80 concurrent workers.\n"
     ]
    },
    {
     "name": "stdout",
     "output_type": "stream",
     "text": [
      "2000 sigmoid 0.2 0.1 0.3843573070801452\n"
     ]
    }
   ],
   "source": [
    "for fname in ['abs', '2dpoly', 'sigmoid', 'sin']:\n",
    "    for iv_strength in [.2, .5]:\n",
    "        for endogeneity_strength in [0.1, 0.3]:\n",
    "            Z, X, Y, true_fn = get_data(\n",
    "                1000000, 1, iv_strength, get_tau_fn(fn_dict[fname]), 5, endogeneity_strength=endogeneity_strength)\n",
    "            true = np.mean(moment_fn(X, true_fn))\n",
    "            for n in [500, 1000, 2000]:\n",
    "                print(n, fname, iv_strength, endogeneity_strength, true)\n",
    "                results = Parallel(n_jobs=-1, verbose=3)(delayed(exp)(it, n, None, None,\n",
    "                                                                      fname=fname,\n",
    "                                                                      iv_strength=iv_strength,\n",
    "                                                                      endogeneity_strength=endogeneity_strength)\n",
    "                                                                for it in range(1000))\n",
    "                joblib.dump((true, results), f'rkhs_fname_{fname}_n_{n}_iv_strength_{iv_strength}_{endogeneity_strength}.jbl')\n",
    "                df = pd.DataFrame(get_result_dict(results, true))\n",
    "                display(df)"
   ]
  },
  {
   "cell_type": "code",
   "execution_count": null,
   "id": "22",
   "metadata": {
    "id": "nKrIHfIkS_qw"
   },
   "outputs": [],
   "source": [
    "def get_result_dict(results, true, alpha=0.95):\n",
    "    df = {}\n",
    "    for it, method in enumerate(['dr', 'tmle', 'ipw', 'direct']):\n",
    "        data = np.array([r[it] for r in results])\n",
    "        confidence = .95\n",
    "        se = (data[:, 2] - data[:, 0]) / scipy.stats.t.ppf((1 + confidence) / 2., n - 1)\n",
    "        confidence = alpha\n",
    "        data[:, 1] = data[:, 0] - se * scipy.stats.t.ppf((1 + confidence) / 2., n - 1)\n",
    "        data[:, 2] = data[:, 0] + se * scipy.stats.t.ppf((1 + confidence) / 2., n - 1)\n",
    "        if method in ['dr', 'tmle']:\n",
    "            cov = f'{100*np.mean((data[:, 1] <= true) & (true <= data[:, 2])):.0f}'\n",
    "        else:\n",
    "            cov = 'NA'\n",
    "        df[method] =  {'cov': cov,\n",
    "                'rmse': f'{np.sqrt(np.mean((data[:, 0] - true)**2)):.3f}',\n",
    "                'bias': f'{np.abs(np.mean((data[:, 0] - true))):.3f}'}\n",
    "    return df"
   ]
  },
  {
   "cell_type": "code",
   "execution_count": null,
   "id": "23",
   "metadata": {
    "id": "6eJvEo2H5gHy"
   },
   "outputs": [],
   "source": [
    "for alpha in [0.95, 0.99]:\n",
    "    res = {}\n",
    "    for fname in ['abs', '2dpoly', 'sigmoid', 'sin']:\n",
    "        res[fname] = {}\n",
    "        for n in [500, 1000, 2000]:\n",
    "            res[fname][f'${n}$'] = {}\n",
    "            for iv_strength in [.2, .5]:\n",
    "                for endogeneity_strength in [0.05, 0.1]:\n",
    "                    true, results = joblib.load(f'rkhs_fname_{fname}_n_{n}_iv_strength_{iv_strength}_{endogeneity_strength}.jbl')\n",
    "                    df = pd.DataFrame(get_result_dict(results, true, alpha=alpha))\n",
    "                    res[fname][f'${n}$'][f'${iv_strength}$'][f'${endogeneity_strength}$'] = df\n",
    "                res[fname][f'${n}$'][f'${iv_strength}$'] = pd.concat(res[fname][f'${n}$'][f'${iv_strength}$'], sort=False)\n",
    "            res[fname][f'${n}$'] = pd.concat(res[fname][f'${n}$'], sort=False)\n",
    "        res[fname] = pd.concat(res[fname], sort=False).unstack(level=3)\n",
    "    res = pd.concat(res, sort=False).unstack(level=4)\n",
    "    print(res.to_latex(bold_rows=True, multirow=True,\n",
    "                       multicolumn=True, escape=False,\n",
    "                       column_format='llll||lll|lll|lll|lll|',\n",
    "                       multicolumn_format='c|'))"
   ]
  },
  {
   "cell_type": "code",
   "execution_count": null,
   "id": "26",
   "metadata": {
    "id": "ZEa8ZjSdB86b"
   },
   "outputs": [],
   "source": []
  }
 ],
 "metadata": {
  "accelerator": "GPU",
  "colab": {
   "gpuType": "A100",
   "machine_shape": "hm",
   "provenance": []
  },
  "kernelspec": {
   "display_name": "Python 3 (ipykernel)",
   "language": "python",
   "name": "python3"
  },
  "language_info": {
   "codemirror_mode": {
    "name": "ipython",
    "version": 3
   },
   "file_extension": ".py",
   "mimetype": "text/x-python",
   "name": "python",
   "nbconvert_exporter": "python",
   "pygments_lexer": "ipython3",
   "version": "3.12.3"
  }
 },
 "nbformat": 4,
 "nbformat_minor": 5
}
