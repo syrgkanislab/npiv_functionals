{
 "cells": [
  {
   "cell_type": "code",
   "execution_count": null,
   "id": "0",
   "metadata": {
    "colab": {
     "base_uri": "https://localhost:8080/"
    },
    "id": "AJUUtwf7tpMY",
    "outputId": "074b1ddd-fdc7-4bed-ac38-848f8de819a5"
   },
   "outputs": [],
   "source": [
    "!git clone https://github.com/syrgkanislab/npiv_functionals.git"
   ]
  },
  {
   "cell_type": "code",
   "execution_count": null,
   "id": "1",
   "metadata": {
    "colab": {
     "base_uri": "https://localhost:8080/"
    },
    "id": "k8UpU06VuXjS",
    "outputId": "3016683b-c466-410a-fbcd-500961f42721"
   },
   "outputs": [],
   "source": [
    "%cd npiv_functionals"
   ]
  },
  {
   "cell_type": "code",
   "execution_count": null,
   "id": "2",
   "metadata": {
    "colab": {
     "base_uri": "https://localhost:8080/"
    },
    "id": "Ts1IMpmmukbF",
    "outputId": "b4bf258e-2dff-47aa-f0a2-cfd7a0dd1b24"
   },
   "outputs": [],
   "source": [
    "!python setup.py install"
   ]
  },
  {
   "cell_type": "code",
   "execution_count": null,
   "id": "3",
   "metadata": {
    "id": "TuzPwHQWu9ZQ"
   },
   "outputs": [],
   "source": [
    "import os\n",
    "import sys\n",
    "sys.path.append(os.path.abspath('.'))"
   ]
  },
  {
   "cell_type": "code",
   "execution_count": null,
   "id": "4",
   "metadata": {
    "id": "079f4576"
   },
   "outputs": [],
   "source": [
    "import warnings\n",
    "warnings.simplefilter('ignore')\n",
    "import itertools\n",
    "import numpy as np\n",
    "import matplotlib.pyplot as plt\n",
    "from sklearn.model_selection import train_test_split\n",
    "from mliv.dgps import get_data, get_tau_fn, fn_dict\n",
    "from mliv.neuralnet.utilities import mean_ci\n",
    "from mliv.neuralnet import AGMMEarlyStop as AGMM\n",
    "from mliv.neuralnet.moments import avg_small_diff\n",
    "from sklearn.ensemble import RandomForestRegressor\n",
    "import joblib\n",
    "from joblib import Parallel, delayed\n",
    "from mliv.cct.mc2 import MC2\n",
    "from mliv.rkhs import ApproxRKHSIVCV\n",
    "from sklearn.model_selection import cross_val_predict\n",
    "from sklearn.preprocessing import PolynomialFeatures, StandardScaler\n",
    "from sklearn.kernel_approximation import Nystroem\n",
    "from sklearn.pipeline import FeatureUnion, Pipeline\n",
    "import scipy\n",
    "import pandas as pd"
   ]
  },
  {
   "cell_type": "code",
   "execution_count": null,
   "id": "5",
   "metadata": {
    "id": "46cafedd"
   },
   "outputs": [],
   "source": [
    "# average finite difference moment\n",
    "def moment_fn(x, test_fn):\n",
    "    epsilon = 0.1\n",
    "    t1 = np.hstack([x[:, [0]] + epsilon, x[:, 1:]])\n",
    "    t0 = np.hstack([x[:, [0]] - epsilon, x[:, 1:]])\n",
    "    return (test_fn(t1) - test_fn(t0)) / (2 * epsilon)"
   ]
  },
  {
   "cell_type": "code",
   "execution_count": null,
   "id": "6",
   "metadata": {
    "id": "yQM3g2gRt19j"
   },
   "outputs": [],
   "source": [
    "def moment_evals(x):\n",
    "    epsilon = 0.1\n",
    "    t1 = np.hstack([x[:, [0]] + epsilon, x[:, 1:]])\n",
    "    t0 = np.hstack([x[:, [0]] - epsilon, x[:, 1:]])\n",
    "    return t0, t1"
   ]
  },
  {
   "cell_type": "code",
   "execution_count": null,
   "id": "7",
   "metadata": {
    "id": "1e9036f7"
   },
   "outputs": [],
   "source": [
    "it = 0\n",
    "n = 5000\n",
    "mc2_gen = MC2(n, 100, None, dimension=10, corr=0.5)\n",
    "npvec, *_ = mc2_gen.data(it)\n",
    "Z, X, Y = npvec['instrument'], npvec['endogenous'], npvec['response']\n",
    "n_z = Z.shape[1]\n",
    "n_x = X.shape[1]"
   ]
  },
  {
   "cell_type": "code",
   "execution_count": null,
   "id": "8",
   "metadata": {
    "id": "3adda476"
   },
   "outputs": [],
   "source": [
    "Z_train, Z_val, X_train, X_val, Y_train, Y_val = train_test_split(\n",
    "        Z, X, Y, test_size=.5, shuffle=True)\n",
    "\n",
    "ztrans = Nystroem(n_components=100)\n",
    "xtrans = Nystroem(n_components=100)\n",
    "# ztrans = PolynomialFeatures(degree=2)\n",
    "# xtrans = PolynomialFeatures(degree=2)\n",
    "# ztrans = FeatureUnion([('poly', PolynomialFeatures(degree=2)), ('nys', Nystroem(n_components=10))])\n",
    "# xtrans = FeatureUnion([('poly', PolynomialFeatures(degree=2)), ('nys', Nystroem(n_components=10))])\n",
    "ztrans = Pipeline([('trans', ztrans), ('scale', StandardScaler())])\n",
    "xtrans = Pipeline([('trans', xtrans), ('scale', StandardScaler())])\n",
    "Psi = ztrans.fit_transform(Z_train)\n",
    "xtrans.fit(np.vstack((X_train,) + moment_evals(X_train)))\n",
    "Phi = xtrans.transform(X_train)\n",
    "mPhi = moment_fn(X_train, xtrans.transform)"
   ]
  },
  {
   "cell_type": "code",
   "execution_count": null,
   "id": "9",
   "metadata": {
    "id": "0bc28612"
   },
   "outputs": [],
   "source": [
    "CovPsi = Psi.T @ Psi\n",
    "CovPhiPsi = Phi.T @ Psi\n",
    "Phival = xtrans.transform(X_val)\n",
    "Psival = ztrans.transform(Z_val)\n",
    "mPhival = moment_fn(X_val, xtrans.transform)\n",
    "moment_val = np.mean(mPhival, axis=0)\n",
    "\n",
    "best_violation = np.inf\n",
    "for alpha in np.logspace(-6, 1, 5):\n",
    "    regCov = scipy.linalg.pinv(CovPsi + alpha * n * np.eye(Psi.shape[1]))\n",
    "    Sigma = CovPhiPsi @ regCov @ CovPsi @ regCov @  CovPhiPsi.T\n",
    "    for beta in np.logspace(-6, 1, 5):\n",
    "        xi = scipy.linalg.pinv(Sigma + beta * n * np.eye(Phi.shape[1])) @ np.sum(mPhi, axis=0)\n",
    "        for gamma in np.logspace(-6, 1, 5):\n",
    "            qparam = scipy.linalg.pinv(CovPsi + gamma * n * np.eye(Psi.shape[1])) @ CovPhiPsi.T @ xi\n",
    "\n",
    "            representer_val = np.mean((Psival @ qparam).reshape(-1, 1) * Phival, axis=0)\n",
    "            violation = np.linalg.norm(moment_val - representer_val, ord=2)\n",
    "            if violation <= best_violation:\n",
    "                best_alpha = alpha\n",
    "                best_beta = beta\n",
    "                best_gamma = gamma\n",
    "                best_violation = violation"
   ]
  },
  {
   "cell_type": "code",
   "execution_count": null,
   "id": "10",
   "metadata": {
    "id": "6852d273"
   },
   "outputs": [],
   "source": [
    "alpha = best_alpha\n",
    "beta = best_beta\n",
    "gamma = best_gamma\n",
    "regCov = scipy.linalg.pinv(CovPsi + alpha * n * np.eye(Psi.shape[1]))\n",
    "Sigma = CovPhiPsi @ regCov @ CovPsi @ regCov @  CovPhiPsi.T\n",
    "xi = scipy.linalg.pinv(Sigma + beta * n * np.eye(Phi.shape[1])) @ np.sum(mPhi, axis=0)\n",
    "qparam = scipy.linalg.pinv(CovPsi + gamma * n * np.eye(Psi.shape[1])) @ CovPhiPsi.T @ xi"
   ]
  },
  {
   "cell_type": "code",
   "execution_count": null,
   "id": "11",
   "metadata": {
    "colab": {
     "base_uri": "https://localhost:8080/"
    },
    "id": "d595e251",
    "outputId": "6b89177f-e2c5-4559-959f-f366c7e6e5b1"
   },
   "outputs": [],
   "source": [
    "best_alpha, best_beta, best_gamma, best_violation"
   ]
  },
  {
   "cell_type": "code",
   "execution_count": null,
   "id": "12",
   "metadata": {
    "colab": {
     "base_uri": "https://localhost:8080/"
    },
    "id": "6fcc364a",
    "outputId": "1a381e47-fd3d-45bd-8c61-43deca822756"
   },
   "outputs": [],
   "source": [
    "agmm = ApproxRKHSIVCV(n_components=200)\n",
    "agmm.fit(Z_train, X_train, Y_train)"
   ]
  },
  {
   "cell_type": "code",
   "execution_count": null,
   "id": "13",
   "metadata": {
    "colab": {
     "base_uri": "https://localhost:8080/"
    },
    "id": "d09078c8",
    "outputId": "687ce55c-2f8a-4987-8081-d162a789ea4a"
   },
   "outputs": [],
   "source": [
    "direct = moment_fn(X_val, agmm.predict).flatten()\n",
    "residual = (Y_val - agmm.predict(X_val)).flatten()\n",
    "qvalues = Psival @ qparam\n",
    "pseudo = direct + qvalues * residual\n",
    "\n",
    "reg = mean_ci(direct)\n",
    "dr = mean_ci(pseudo)\n",
    "ipw = mean_ci(qvalues * Y_val.flatten())\n",
    "reg, ipw, dr"
   ]
  },
  {
   "cell_type": "code",
   "execution_count": null,
   "id": "14",
   "metadata": {
    "colab": {
     "base_uri": "https://localhost:8080/"
    },
    "id": "2366d8d6",
    "outputId": "de882b8c-cdc0-4d61-83c0-27e22e3fd7a3"
   },
   "outputs": [],
   "source": [
    "xivalues = xtrans.transform(X_val) @ xi\n",
    "coef = np.mean(qvalues * residual) / np.mean(qvalues * xivalues)\n",
    "pseudo_tmle = direct + coef * (mPhival @ xi)\n",
    "pseudo_tmle += qvalues * (residual - coef * xivalues)\n",
    "tmle = mean_ci(pseudo_tmle)\n",
    "tmle"
   ]
  },
  {
   "cell_type": "code",
   "execution_count": null,
   "id": "15",
   "metadata": {
    "id": "MAcy1wXR7x8e"
   },
   "outputs": [],
   "source": [
    "from sklearn.model_selection import KFold\n",
    "\n",
    "def exp(it, n, dim, corr, fname='cct', iv_strength=None, endogeneity_strength=None):\n",
    "    np.random.seed(it)\n",
    "    if fname == 'cct':\n",
    "        mc2_gen = MC2(n, 100, None, dimension=dim, corr=corr)\n",
    "        npvec, *_ = mc2_gen.data(it)\n",
    "        Z, X, Y = npvec['instrument'], npvec['endogenous'], npvec['response']\n",
    "    else:\n",
    "        Z, X, Y, _ = get_data(n, 1, iv_strength, get_tau_fn(fn_dict[fname]), 5, endogeneity_strength=endogeneity_strength)\n",
    "\n",
    "    direct = np.zeros(n)\n",
    "    residual = np.zeros(n)\n",
    "    qvalues = np.zeros(n)\n",
    "    xivalues = np.zeros(n)\n",
    "    mxivalues = np.zeros(n)\n",
    "\n",
    "    for train, test in KFold(n_splits=5, shuffle=True).split(Z):\n",
    "        Z_train, Z_val, X_train, X_val, Y_train, Y_val = Z[train], Z[test], X[train], X[test], Y[train], Y[test]\n",
    "\n",
    "        ztrans = Nystroem(n_components=200)\n",
    "        xtrans = Nystroem(n_components=200)\n",
    "        ztrans = Pipeline([('trans', ztrans), ('scale', StandardScaler())])\n",
    "        xtrans = Pipeline([('trans', xtrans), ('scale', StandardScaler())])\n",
    "\n",
    "        Psi = ztrans.fit_transform(Z_train)\n",
    "        xtrans.fit(np.vstack((X_train,) + moment_evals(X_train)))\n",
    "        Phi = xtrans.transform(X_train)\n",
    "        mPhi = moment_fn(X_train, xtrans.transform)\n",
    "\n",
    "        CovPsi = Psi.T @ Psi\n",
    "        CovPhiPsi = Phi.T @ Psi\n",
    "        Phival = xtrans.transform(X_val)\n",
    "        Psival = ztrans.transform(Z_val)\n",
    "        mPhival = moment_fn(X_val, xtrans.transform)\n",
    "        moment_val = np.mean(mPhival, axis=0)\n",
    "\n",
    "        best_violation = np.inf\n",
    "        for alpha in np.logspace(-7, 1, 10):\n",
    "            regCov = scipy.linalg.inv(CovPsi + alpha * n * np.eye(Psi.shape[1]))\n",
    "            Sigma = CovPhiPsi @ regCov @ CovPsi @ regCov @  CovPhiPsi.T\n",
    "            for beta in np.logspace(-7, 1, 10):\n",
    "                xi = scipy.linalg.inv(Sigma + beta * n * np.eye(Phi.shape[1])) @ np.sum(mPhi, axis=0)\n",
    "                for gamma in np.logspace(-7, 1, 10):\n",
    "                    qparam = scipy.linalg.inv(CovPsi + gamma * n * np.eye(Psi.shape[1])) @ CovPhiPsi.T @ xi\n",
    "\n",
    "                    # calculating the violation in the riesz representation property for each feature\n",
    "                    #  E[m(W; phi)] = E[q(Z) * phi(X)]\n",
    "                    # for every feature phi.\n",
    "                    representer_val = np.mean((Psival @ qparam).reshape(-1, 1) * Phival, axis=0)\n",
    "                    violation = np.linalg.norm(moment_val - representer_val, ord=2)\n",
    "                    if violation <= best_violation:\n",
    "                        best_alpha = alpha\n",
    "                        best_beta = beta\n",
    "                        best_gamma = gamma\n",
    "                        best_violation = violation\n",
    "\n",
    "        alpha = best_alpha\n",
    "        beta = best_beta\n",
    "        gamma = best_gamma\n",
    "        regCov = scipy.linalg.inv(CovPsi + alpha * n * np.eye(Psi.shape[1]))\n",
    "        Sigma = CovPhiPsi @ regCov @ CovPsi @ regCov @  CovPhiPsi.T\n",
    "        xi = scipy.linalg.inv(Sigma + beta * n * np.eye(Phi.shape[1])) @ np.sum(mPhi, axis=0)\n",
    "        qparam = scipy.linalg.inv(CovPsi + gamma * n * np.eye(Psi.shape[1])) @ CovPhiPsi.T @ xi\n",
    "\n",
    "        agmm = ApproxRKHSIVCV(n_components=200)\n",
    "        agmm.fit(Z_train, X_train, Y_train)\n",
    "\n",
    "        direct[test] = moment_fn(X_val, agmm.predict).flatten()\n",
    "        residual[test] = (Y_val - agmm.predict(X_val)).flatten()\n",
    "        qvalues[test] = Psival @ qparam\n",
    "        xivalues[test] = Phival @ xi\n",
    "        mxivalues[test] = mPhival @ xi\n",
    "\n",
    "    pseudo = direct + qvalues * residual\n",
    "\n",
    "    reg = mean_ci(direct)\n",
    "    dr = mean_ci(pseudo)\n",
    "    ipw = mean_ci(qvalues * Y.flatten())\n",
    "\n",
    "    coef = np.mean(qvalues * residual) / np.mean(qvalues * xivalues)\n",
    "    pseudo_tmle = direct + coef * mxivalues\n",
    "    pseudo_tmle += qvalues * (residual - coef * xivalues)\n",
    "    tmle = mean_ci(pseudo_tmle)\n",
    "\n",
    "    return dr, tmle, ipw, reg"
   ]
  },
  {
   "cell_type": "code",
   "execution_count": null,
   "id": "16",
   "metadata": {
    "id": "cG37s84N9QDn"
   },
   "outputs": [],
   "source": [
    "def get_result_dict(results, true, alpha=0.95):\n",
    "    df = {}\n",
    "    for it, method in enumerate(['dr', 'tmle', 'ipw', 'direct']):\n",
    "        if method == 'ipw':\n",
    "            continue\n",
    "        data = np.array([r[it] for r in results])\n",
    "        confidence = .95\n",
    "        se = (data[:, 2] - data[:, 0]) / scipy.stats.t.ppf((1 + confidence) / 2., n - 1)\n",
    "        if method in ['dr', 'tmle']:\n",
    "            confidence = 0.95\n",
    "            data[:, 1] = data[:, 0] - se * scipy.stats.t.ppf((1 + confidence) / 2., n - 1)\n",
    "            data[:, 2] = data[:, 0] + se * scipy.stats.t.ppf((1 + confidence) / 2., n - 1)\n",
    "            cov95 = f'{100*np.mean((data[:, 1] <= true) & (true <= data[:, 2])):.0f}'\n",
    "            confidence = 0.99\n",
    "            data[:, 1] = data[:, 0] - se * scipy.stats.t.ppf((1 + confidence) / 2., n - 1)\n",
    "            data[:, 2] = data[:, 0] + se * scipy.stats.t.ppf((1 + confidence) / 2., n - 1)\n",
    "            cov99 = f'{100*np.mean((data[:, 1] <= true) & (true <= data[:, 2])):.0f}'\n",
    "        else:\n",
    "            cov = 'NA'\n",
    "        df[method] =  {'cov95': cov95, 'cov99': cov99,\n",
    "                'rmse': f'{np.sqrt(np.mean((data[:, 0] - true)**2)):.3f}',\n",
    "                'bias': f'{np.abs(np.mean((data[:, 0] - true))):.3f}'}\n",
    "    return df"
   ]
  },
  {
   "cell_type": "code",
   "execution_count": null,
   "id": "17",
   "metadata": {
    "colab": {
     "background_save": true,
     "base_uri": "https://localhost:8080/",
     "height": 1000
    },
    "id": "2aMYRrDf-Yp7",
    "outputId": "bf2da7ef-0651-4792-96e5-163ac758cbcd"
   },
   "outputs": [],
   "source": [
    "true = 1.0\n",
    "\n",
    "for n in [1000, 5000]:\n",
    "    for n_x in [0, 5, 10]:\n",
    "        for corr in [0.0, 0.5]:\n",
    "            if n_x == 0 and corr == 0.5:\n",
    "                continue\n",
    "            print(n, n_x, corr)\n",
    "            results = Parallel(n_jobs=-1, verbose=3)(delayed(exp)(it, n, n_x, corr)\n",
    "                                                            for it in range(1000))\n",
    "            joblib.dump(results, f'rkhs_cct_n_{n}_n_x_{n_x}_corr_{corr}.jbl')\n",
    "            df = pd.DataFrame(get_result_dict(results, true))\n",
    "            display(df)"
   ]
  },
  {
   "cell_type": "code",
   "execution_count": null,
   "id": "18",
   "metadata": {
    "id": "xI-mIQDlvqLb"
   },
   "outputs": [],
   "source": [
    "true = 1.0\n",
    "res = {}\n",
    "for n_x in [0, 5, 10]:\n",
    "    res[f'${n_x}$'] = {}\n",
    "    for n in [1000, 5000]:\n",
    "        res[f'${n_x}$'][f'${n}$'] = {}\n",
    "        for corr in [0.0, 0.5]:\n",
    "            if n_x == 0 and corr == 0.5:\n",
    "                continue\n",
    "            results = joblib.load(f'rkhs_cct_n_{n}_n_x_{n_x}_corr_{corr}.jbl')\n",
    "            res[f'${n_x}$'][f'${n}$'][f'${corr}$'] = pd.DataFrame(get_result_dict(results, true))\n",
    "        res[f'${n_x}$'][f'${n}$'] = pd.concat(res[f'${n_x}$'][f'${n}$'], sort=False)\n",
    "    res[f'${n_x}$'] = pd.concat(res[f'${n_x}$'], sort=False)\n",
    "res = pd.concat(res, sort=False).unstack(level=3)\n",
    "print(res.to_latex(bold_rows=True, multirow=True,\n",
    "                   multicolumn=True, escape=False,\n",
    "                   column_format='lll||llll|llll|llll|',\n",
    "                   multicolumn_format='c|'))"
   ]
  },
  {
   "cell_type": "code",
   "execution_count": null,
   "id": "21",
   "metadata": {
    "colab": {
     "base_uri": "https://localhost:8080/",
     "height": 1000
    },
    "id": "bbe7c46f",
    "outputId": "7f4cbd4b-726a-4eff-8c62-c934eb8c1a47",
    "scrolled": true
   },
   "outputs": [],
   "source": [
    "for fname in ['abs', '2dpoly', 'sigmoid', 'sin']:\n",
    "    for iv_strength in [.2, .5]:\n",
    "        for endogeneity_strength in [0.1, 0.3]:\n",
    "            Z, X, Y, true_fn = get_data(\n",
    "                1000000, 1, iv_strength, get_tau_fn(fn_dict[fname]), 5, endogeneity_strength=endogeneity_strength)\n",
    "            true = np.mean(moment_fn(X, true_fn))\n",
    "            for n in [500, 1000, 2000]:\n",
    "                print(n, fname, iv_strength, endogeneity_strength, true)\n",
    "                results = Parallel(n_jobs=-1, verbose=3)(delayed(exp)(it, n, None, None,\n",
    "                                                                      fname=fname,\n",
    "                                                                      iv_strength=iv_strength,\n",
    "                                                                      endogeneity_strength=endogeneity_strength)\n",
    "                                                                for it in range(1000))\n",
    "                joblib.dump((true, results), f'rkhs_fname_{fname}_n_{n}_iv_strength_{iv_strength}_{endogeneity_strength}.jbl')\n",
    "                df = pd.DataFrame(get_result_dict(results, true))\n",
    "                display(df)"
   ]
  },
  {
   "cell_type": "code",
   "execution_count": null,
   "id": "22",
   "metadata": {
    "id": "nKrIHfIkS_qw"
   },
   "outputs": [],
   "source": [
    "def get_result_dict(results, true, alpha=0.95):\n",
    "    df = {}\n",
    "    for it, method in enumerate(['dr', 'tmle', 'ipw', 'direct']):\n",
    "        data = np.array([r[it] for r in results])\n",
    "        confidence = .95\n",
    "        se = (data[:, 2] - data[:, 0]) / scipy.stats.t.ppf((1 + confidence) / 2., n - 1)\n",
    "        confidence = alpha\n",
    "        data[:, 1] = data[:, 0] - se * scipy.stats.t.ppf((1 + confidence) / 2., n - 1)\n",
    "        data[:, 2] = data[:, 0] + se * scipy.stats.t.ppf((1 + confidence) / 2., n - 1)\n",
    "        if method in ['dr', 'tmle']:\n",
    "            cov = f'{100*np.mean((data[:, 1] <= true) & (true <= data[:, 2])):.0f}'\n",
    "        else:\n",
    "            cov = 'NA'\n",
    "        df[method] =  {'cov': cov,\n",
    "                'rmse': f'{np.sqrt(np.mean((data[:, 0] - true)**2)):.3f}',\n",
    "                'bias': f'{np.abs(np.mean((data[:, 0] - true))):.3f}'}\n",
    "    return df"
   ]
  },
  {
   "cell_type": "code",
   "execution_count": null,
   "id": "23",
   "metadata": {
    "id": "6eJvEo2H5gHy"
   },
   "outputs": [],
   "source": [
    "alpha = 0.95\n",
    "res = {}\n",
    "for fname in ['abs', '2dpoly', 'sigmoid', 'sin']:\n",
    "    res[fname] = {}\n",
    "    for n in [500, 1000, 2000]:\n",
    "        res[fname][f'${n}$'] = {}\n",
    "        for iv_strength in [.2, .5]:\n",
    "            res[fname][f'${n}$'][f'${iv_strength}$'] = {}\n",
    "            for endogeneity_strength in [0.1, 0.3]:\n",
    "                true, results = joblib.load(f'rkhs_fname_{fname}_n_{n}_iv_strength_{iv_strength}_{endogeneity_strength}.jbl')\n",
    "                df = pd.DataFrame(get_result_dict(results, true, alpha=alpha))\n",
    "                res[fname][f'${n}$'][f'${iv_strength}$'][f'${endogeneity_strength}$'] = df\n",
    "            res[fname][f'${n}$'][f'${iv_strength}$'] = pd.concat(res[fname][f'${n}$'][f'${iv_strength}$'], sort=False)\n",
    "        res[fname][f'${n}$'] = pd.concat(res[fname][f'${n}$'], sort=False)\n",
    "    res[fname] = pd.concat(res[fname], sort=False)\n",
    "res = pd.concat(res, sort=False).unstack(level=4)\n",
    "display(res)\n",
    "print(res.to_latex(bold_rows=True, multirow=True,\n",
    "                   multicolumn=True, escape=False,\n",
    "                   column_format='llll||lll|lll|lll|lll|',\n",
    "                   multicolumn_format='c|'))"
   ]
  },
  {
   "cell_type": "code",
   "execution_count": null,
   "id": "26",
   "metadata": {
    "id": "ZEa8ZjSdB86b"
   },
   "outputs": [],
   "source": []
  }
 ],
 "metadata": {
  "accelerator": "GPU",
  "colab": {
   "gpuType": "A100",
   "machine_shape": "hm",
   "provenance": []
  },
  "kernelspec": {
   "display_name": "Python 3 (ipykernel)",
   "language": "python",
   "name": "python3"
  },
  "language_info": {
   "codemirror_mode": {
    "name": "ipython",
    "version": 3
   },
   "file_extension": ".py",
   "mimetype": "text/x-python",
   "name": "python",
   "nbconvert_exporter": "python",
   "pygments_lexer": "ipython3",
   "version": "3.12.3"
  }
 },
 "nbformat": 4,
 "nbformat_minor": 5
}
