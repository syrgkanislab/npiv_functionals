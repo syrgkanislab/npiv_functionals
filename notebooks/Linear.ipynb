{
 "cells": [
  {
   "cell_type": "code",
   "execution_count": 7,
   "id": "079f4576",
   "metadata": {},
   "outputs": [],
   "source": [
    "import warnings\n",
    "warnings.simplefilter('ignore')\n",
    "import itertools\n",
    "import numpy as np\n",
    "import matplotlib.pyplot as plt\n",
    "import torch\n",
    "import torch.nn as nn\n",
    "from sklearn.model_selection import train_test_split\n",
    "from mliv.dgps import get_data, get_tau_fn, fn_dict\n",
    "from mliv.neuralnet.utilities import mean_ci\n",
    "from mliv.neuralnet import AGMMEarlyStop as AGMM\n",
    "from mliv.neuralnet.moments import avg_small_diff\n",
    "from sklearn.ensemble import RandomForestRegressor\n",
    "import joblib\n",
    "from joblib import Parallel, delayed\n",
    "from mliv.cct.mc2 import MC2\n",
    "from mliv.rkhs import ApproxRKHSIVCV\n",
    "from sklearn.model_selection import cross_val_predict\n",
    "from sklearn.preprocessing import PolynomialFeatures, StandardScaler\n",
    "from sklearn.kernel_approximation import Nystroem\n",
    "from sklearn.pipeline import FeatureUnion, Pipeline\n",
    "import scipy"
   ]
  },
  {
   "cell_type": "code",
   "execution_count": 8,
   "id": "46cafedd",
   "metadata": {},
   "outputs": [],
   "source": [
    "# average finite difference moment\n",
    "def moment_fn(x, test_fn):\n",
    "    epsilon = 0.1\n",
    "    t1 = np.hstack([x[:, [0]] + epsilon, x[:, 1:]])\n",
    "    t0 = np.hstack([x[:, [0]] - epsilon, x[:, 1:]])\n",
    "    return (test_fn(t1) - test_fn(t0)) / (2 * epsilon)"
   ]
  },
  {
   "cell_type": "code",
   "execution_count": 80,
   "id": "1e9036f7",
   "metadata": {},
   "outputs": [],
   "source": [
    "it = 0\n",
    "n = 5000\n",
    "mc2_gen = MC2(n, 100, None, dimension=10, corr=0.5)\n",
    "npvec, *_ = mc2_gen.data(it)\n",
    "Z, X, Y = npvec['instrument'], npvec['endogenous'], npvec['response']\n",
    "n_z = Z.shape[1]\n",
    "n_x = X.shape[1]"
   ]
  },
  {
   "cell_type": "code",
   "execution_count": 81,
   "id": "3adda476",
   "metadata": {},
   "outputs": [],
   "source": [
    "Z_train, Z_val, X_train, X_val, Y_train, Y_val = train_test_split(\n",
    "        Z, X, Y, test_size=.5, shuffle=True)\n",
    "    \n",
    "# ztrans = Nystroem(n_components=100)\n",
    "# xtrans = Nystroem(n_components=100)\n",
    "ztrans = PolynomialFeatures(degree=2)\n",
    "xtrans = PolynomialFeatures(degree=2)\n",
    "# ztrans = FeatureUnion([('poly', PolynomialFeatures(degree=2)), ('nys', Nystroem(n_components=10))])\n",
    "# xtrans = FeatureUnion([('poly', PolynomialFeatures(degree=2)), ('nys', Nystroem(n_components=10))])\n",
    "ztrans = Pipeline([('trans', ztrans), ('scale', StandardScaler())])\n",
    "xtrans = Pipeline([('trans', xtrans), ('scale', StandardScaler())])\n",
    "Psi = ztrans.fit_transform(Z_train)\n",
    "Phi = xtrans.fit_transform(X_train)\n",
    "mPhi = moment_fn(X_train, xtrans.transform)"
   ]
  },
  {
   "cell_type": "code",
   "execution_count": 82,
   "id": "0bc28612",
   "metadata": {},
   "outputs": [],
   "source": [
    "CovPsi = Psi.T @ Psi\n",
    "CovPhiPsi = Phi.T @ Psi\n",
    "Phival = xtrans.transform(X_val)\n",
    "Psival = ztrans.transform(Z_val)\n",
    "mPhival = moment_fn(X_val, xtrans.transform)\n",
    "moment_val = np.mean(mPhival, axis=0)\n",
    "\n",
    "best_violation = np.inf\n",
    "for alpha in np.logspace(-6, 1, 5):\n",
    "    regCov = scipy.linalg.pinv(CovPsi + alpha * n * np.eye(Psi.shape[1]))\n",
    "    Sigma = CovPhiPsi @ regCov @ CovPsi @ regCov @  CovPhiPsi.T\n",
    "    for beta in np.logspace(-6, 1, 5):\n",
    "        xi = scipy.linalg.pinv(Sigma + beta * n * np.eye(Phi.shape[1])) @ np.sum(mPhi, axis=0)\n",
    "        for gamma in np.logspace(-6, 1, 5):\n",
    "            qparam = scipy.linalg.pinv(CovPsi + gamma * n * np.eye(Psi.shape[1])) @ CovPhiPsi.T @ xi\n",
    "\n",
    "            representer_val = np.mean((Psival @ qparam).reshape(-1, 1) * Phival, axis=0)\n",
    "            violation = np.linalg.norm(moment_val - representer_val, ord=2)\n",
    "            if violation <= best_violation:\n",
    "                best_alpha = alpha\n",
    "                best_beta = beta\n",
    "                best_gamma = gamma\n",
    "                best_violation = violation"
   ]
  },
  {
   "cell_type": "code",
   "execution_count": 83,
   "id": "6852d273",
   "metadata": {},
   "outputs": [],
   "source": [
    "alpha = best_alpha\n",
    "beta = best_beta\n",
    "gamma = best_gamma\n",
    "regCov = scipy.linalg.pinv(CovPsi + alpha * n * np.eye(Psi.shape[1]))\n",
    "Sigma = CovPhiPsi @ regCov @ CovPsi @ regCov @  CovPhiPsi.T\n",
    "xi = scipy.linalg.pinv(Sigma + beta * n * np.eye(Phi.shape[1])) @ np.sum(mPhi, axis=0)\n",
    "qparam = scipy.linalg.pinv(CovPsi + gamma * n * np.eye(Psi.shape[1])) @ CovPhiPsi.T @ xi"
   ]
  },
  {
   "cell_type": "code",
   "execution_count": 84,
   "id": "d595e251",
   "metadata": {},
   "outputs": [
    {
     "data": {
      "text/plain": [
       "(1e-06, 0.0031622776601683794, 0.0031622776601683794, 1.271478323909948)"
      ]
     },
     "execution_count": 84,
     "metadata": {},
     "output_type": "execute_result"
    }
   ],
   "source": [
    "best_alpha, best_beta, best_gamma, best_violation"
   ]
  },
  {
   "cell_type": "code",
   "execution_count": 85,
   "id": "6fcc364a",
   "metadata": {},
   "outputs": [
    {
     "data": {
      "text/plain": [
       "<mliv.rkhs.rkhsiv.ApproxRKHSIVCV at 0x17271cca960>"
      ]
     },
     "execution_count": 85,
     "metadata": {},
     "output_type": "execute_result"
    }
   ],
   "source": [
    "agmm = ApproxRKHSIVCV(n_components=200)\n",
    "agmm.fit(Z_train, X_train, Y_train)"
   ]
  },
  {
   "cell_type": "code",
   "execution_count": 86,
   "id": "d09078c8",
   "metadata": {},
   "outputs": [
    {
     "data": {
      "text/plain": [
       "((1.0399470362147252, 0.918951053053702, 1.1609430193757484),\n",
       " (1.4583955377281368, 0.6870931252779763, 2.229697950178297),\n",
       " (1.0471596379471688, 0.7875847212933229, 1.3067345546010147))"
      ]
     },
     "execution_count": 86,
     "metadata": {},
     "output_type": "execute_result"
    }
   ],
   "source": [
    "direct = moment_fn(X_val, agmm.predict).flatten()\n",
    "residual = (Y_val - agmm.predict(X_val)).flatten()\n",
    "qvalues = Psival @ qparam\n",
    "pseudo = direct + qvalues * residual\n",
    "\n",
    "reg = mean_ci(direct)\n",
    "dr = mean_ci(pseudo)\n",
    "ipw = mean_ci(qvalues * Y_val.flatten())\n",
    "reg, ipw, dr"
   ]
  },
  {
   "cell_type": "code",
   "execution_count": 87,
   "id": "2366d8d6",
   "metadata": {},
   "outputs": [
    {
     "data": {
      "text/plain": [
       "(1.0489932555527517, 0.7893646343444162, 1.3086218767610873)"
      ]
     },
     "execution_count": 87,
     "metadata": {},
     "output_type": "execute_result"
    }
   ],
   "source": [
    "xivalues = xtrans.transform(X_val) @ xi\n",
    "coef = np.mean(qvalues * residual) / np.mean(qvalues * xivalues)\n",
    "pseudo_tmle = direct + coef * (mPhival @ xi)\n",
    "pseudo_tmle += qvalues * (residual - coef * xivalues)\n",
    "tmle = mean_ci(pseudo_tmle)\n",
    "tmle"
   ]
  },
  {
   "cell_type": "code",
   "execution_count": 96,
   "id": "99e09f8a",
   "metadata": {},
   "outputs": [],
   "source": [
    "def exp(it, n, dim, corr):\n",
    "    mc2_gen = MC2(n, 100, None, dimension=dim, corr=corr)\n",
    "    npvec, *_ = mc2_gen.data(it)\n",
    "    Z, X, Y = npvec['instrument'], npvec['endogenous'], npvec['response']\n",
    "    n_z = Z.shape[1]\n",
    "    n_x = X.shape[1]\n",
    "    \n",
    "    Z_train, Z_val, X_train, X_val, Y_train, Y_val = train_test_split(\n",
    "        Z, X, Y, test_size=.5, shuffle=True)\n",
    "    \n",
    "    ztrans = PolynomialFeatures(degree=2)\n",
    "    xtrans = PolynomialFeatures(degree=2) \n",
    "#     ztrans = Nystroem(n_components=100)\n",
    "#     xtrans = Nystroem(n_components=100)\n",
    "#     ztrans = FeatureUnion([('poly', PolynomialFeatures(degree=2)), ('nys', Nystroem(n_components=5))])\n",
    "#     xtrans = FeatureUnion([('poly', PolynomialFeatures(degree=2)), ('nys', Nystroem(n_components=5))])\n",
    "    ztrans = Pipeline([('trans', ztrans), ('scale', StandardScaler())])\n",
    "    xtrans = Pipeline([('trans', xtrans), ('scale', StandardScaler())])\n",
    "\n",
    "    Psi = ztrans.fit_transform(Z_train)\n",
    "    Phi = xtrans.fit_transform(X_train)\n",
    "    mPhi = moment_fn(X_train, xtrans.transform)\n",
    "    \n",
    "#     Sigma = Phi.T @ Psi @ scipy.linalg.pinv(Psi.T @ Psi) @  Psi.T @ Phi\n",
    "#     xi = scipy.linalg.pinv(Sigma) @ np.sum(mPhi, axis=0)\n",
    "#     qparam = scipy.linalg.pinv(Psi.T @ Psi) @ Psi.T @ Phi @ xi\n",
    "\n",
    "    CovPsi = Psi.T @ Psi\n",
    "    CovPhiPsi = Phi.T @ Psi\n",
    "    Phival = xtrans.transform(X_val)\n",
    "    Psival = ztrans.transform(Z_val)\n",
    "    mPhival = moment_fn(X_val, xtrans.transform)\n",
    "    moment_val = np.mean(mPhival, axis=0)\n",
    "\n",
    "    best_violation = np.inf\n",
    "    for alpha in np.logspace(-6, 1, 5):\n",
    "        regCov = scipy.linalg.inv(CovPsi + alpha * n * np.eye(Psi.shape[1]))\n",
    "        Sigma = CovPhiPsi @ regCov @ CovPsi @ regCov @  CovPhiPsi.T\n",
    "        for beta in np.logspace(-6, 1, 5):\n",
    "            xi = scipy.linalg.inv(Sigma + beta * n * np.eye(Phi.shape[1])) @ np.sum(mPhi, axis=0)\n",
    "            for gamma in np.logspace(-6, 1, 5):\n",
    "                qparam = scipy.linalg.inv(CovPsi + gamma * n * np.eye(Psi.shape[1])) @ CovPhiPsi.T @ xi\n",
    "                \n",
    "                # calculating the violation in the riesz representation property for each feature\n",
    "                #  E[m(W; phi)] = E[q(Z) * phi(X)]\n",
    "                # for every feature phi.\n",
    "                representer_val = np.mean((Psival @ qparam).reshape(-1, 1) * Phival, axis=0)\n",
    "                violation = np.linalg.norm(moment_val - representer_val, ord=2)\n",
    "                if violation <= best_violation:\n",
    "                    best_alpha = alpha\n",
    "                    best_beta = beta\n",
    "                    best_gamma = gamma\n",
    "                    best_violation = violation\n",
    "\n",
    "    alpha = best_alpha\n",
    "    beta = best_beta\n",
    "    gamma = best_gamma\n",
    "    regCov = scipy.linalg.inv(CovPsi + alpha * n * np.eye(Psi.shape[1]))\n",
    "    Sigma = CovPhiPsi @ regCov @ CovPsi @ regCov @  CovPhiPsi.T\n",
    "    xi = scipy.linalg.inv(Sigma + beta * n * np.eye(Phi.shape[1])) @ np.sum(mPhi, axis=0)\n",
    "    qparam = scipy.linalg.inv(CovPsi + gamma * n * np.eye(Psi.shape[1])) @ CovPhiPsi.T @ xi\n",
    "\n",
    "    agmm = ApproxRKHSIVCV(n_components=200)\n",
    "    agmm.fit(Z_train, X_train, Y_train)\n",
    "    \n",
    "    direct = moment_fn(X_val, agmm.predict).flatten()\n",
    "    residual = (Y_val - agmm.predict(X_val)).flatten()\n",
    "    qvalues = Psival @ qparam\n",
    "    pseudo = direct + qvalues * residual\n",
    "\n",
    "    reg = mean_ci(direct)\n",
    "    dr = mean_ci(pseudo)\n",
    "    ipw = mean_ci(qvalues * Y_val.flatten())\n",
    "    \n",
    "    xivalues = Phival @ xi\n",
    "    coef = np.mean(qvalues * residual) / np.mean(qvalues * xivalues)\n",
    "    pseudo_tmle = direct + coef * (mPhival @ xi)\n",
    "    pseudo_tmle += qvalues * (residual - coef * xivalues)\n",
    "    tmle = mean_ci(pseudo_tmle)\n",
    "\n",
    "    return dr, tmle, ipw, reg"
   ]
  },
  {
   "cell_type": "code",
   "execution_count": 97,
   "id": "9906e67a",
   "metadata": {
    "scrolled": false
   },
   "outputs": [
    {
     "name": "stdout",
     "output_type": "stream",
     "text": [
      "5000 5 0.0\n"
     ]
    },
    {
     "name": "stderr",
     "output_type": "stream",
     "text": [
      "[Parallel(n_jobs=-1)]: Using backend LokyBackend with 20 concurrent workers.\n",
      "[Parallel(n_jobs=-1)]: Done  95 out of 100 | elapsed:  1.1min remaining:    3.4s\n",
      "[Parallel(n_jobs=-1)]: Done 100 out of 100 | elapsed:  1.1min finished\n"
     ]
    },
    {
     "data": {
      "text/html": [
       "<div>\n",
       "<style scoped>\n",
       "    .dataframe tbody tr th:only-of-type {\n",
       "        vertical-align: middle;\n",
       "    }\n",
       "\n",
       "    .dataframe tbody tr th {\n",
       "        vertical-align: top;\n",
       "    }\n",
       "\n",
       "    .dataframe thead th {\n",
       "        text-align: right;\n",
       "    }\n",
       "</style>\n",
       "<table border=\"1\" class=\"dataframe\">\n",
       "  <thead>\n",
       "    <tr style=\"text-align: right;\">\n",
       "      <th></th>\n",
       "      <th>dr</th>\n",
       "      <th>tmle</th>\n",
       "      <th>ipw</th>\n",
       "      <th>direct</th>\n",
       "    </tr>\n",
       "  </thead>\n",
       "  <tbody>\n",
       "    <tr>\n",
       "      <th>cov</th>\n",
       "      <td>100</td>\n",
       "      <td>96</td>\n",
       "      <td>NA</td>\n",
       "      <td>NA</td>\n",
       "    </tr>\n",
       "    <tr>\n",
       "      <th>rmse</th>\n",
       "      <td>0.099</td>\n",
       "      <td>0.128</td>\n",
       "      <td>0.342</td>\n",
       "      <td>0.101</td>\n",
       "    </tr>\n",
       "    <tr>\n",
       "      <th>bias</th>\n",
       "      <td>0.019</td>\n",
       "      <td>0.034</td>\n",
       "      <td>0.114</td>\n",
       "      <td>0.030</td>\n",
       "    </tr>\n",
       "    <tr>\n",
       "      <th>std</th>\n",
       "      <td>0.097</td>\n",
       "      <td>0.124</td>\n",
       "      <td>0.322</td>\n",
       "      <td>0.096</td>\n",
       "    </tr>\n",
       "  </tbody>\n",
       "</table>\n",
       "</div>"
      ],
      "text/plain": [
       "         dr   tmle    ipw direct\n",
       "cov     100     96     NA     NA\n",
       "rmse  0.099  0.128  0.342  0.101\n",
       "bias  0.019  0.034  0.114  0.030\n",
       "std   0.097  0.124  0.322  0.096"
      ]
     },
     "metadata": {},
     "output_type": "display_data"
    },
    {
     "name": "stderr",
     "output_type": "stream",
     "text": [
      "[Parallel(n_jobs=-1)]: Using backend LokyBackend with 20 concurrent workers.\n"
     ]
    },
    {
     "name": "stdout",
     "output_type": "stream",
     "text": [
      "5000 5 0.5\n"
     ]
    },
    {
     "name": "stderr",
     "output_type": "stream",
     "text": [
      "[Parallel(n_jobs=-1)]: Done  95 out of 100 | elapsed:   54.5s remaining:    2.8s\n",
      "[Parallel(n_jobs=-1)]: Done 100 out of 100 | elapsed:   54.7s finished\n"
     ]
    },
    {
     "data": {
      "text/html": [
       "<div>\n",
       "<style scoped>\n",
       "    .dataframe tbody tr th:only-of-type {\n",
       "        vertical-align: middle;\n",
       "    }\n",
       "\n",
       "    .dataframe tbody tr th {\n",
       "        vertical-align: top;\n",
       "    }\n",
       "\n",
       "    .dataframe thead th {\n",
       "        text-align: right;\n",
       "    }\n",
       "</style>\n",
       "<table border=\"1\" class=\"dataframe\">\n",
       "  <thead>\n",
       "    <tr style=\"text-align: right;\">\n",
       "      <th></th>\n",
       "      <th>dr</th>\n",
       "      <th>tmle</th>\n",
       "      <th>ipw</th>\n",
       "      <th>direct</th>\n",
       "    </tr>\n",
       "  </thead>\n",
       "  <tbody>\n",
       "    <tr>\n",
       "      <th>cov</th>\n",
       "      <td>95</td>\n",
       "      <td>91</td>\n",
       "      <td>NA</td>\n",
       "      <td>NA</td>\n",
       "    </tr>\n",
       "    <tr>\n",
       "      <th>rmse</th>\n",
       "      <td>0.126</td>\n",
       "      <td>0.144</td>\n",
       "      <td>0.487</td>\n",
       "      <td>0.090</td>\n",
       "    </tr>\n",
       "    <tr>\n",
       "      <th>bias</th>\n",
       "      <td>0.052</td>\n",
       "      <td>0.065</td>\n",
       "      <td>0.039</td>\n",
       "      <td>0.027</td>\n",
       "    </tr>\n",
       "    <tr>\n",
       "      <th>std</th>\n",
       "      <td>0.114</td>\n",
       "      <td>0.129</td>\n",
       "      <td>0.486</td>\n",
       "      <td>0.085</td>\n",
       "    </tr>\n",
       "  </tbody>\n",
       "</table>\n",
       "</div>"
      ],
      "text/plain": [
       "         dr   tmle    ipw direct\n",
       "cov      95     91     NA     NA\n",
       "rmse  0.126  0.144  0.487  0.090\n",
       "bias  0.052  0.065  0.039  0.027\n",
       "std   0.114  0.129  0.486  0.085"
      ]
     },
     "metadata": {},
     "output_type": "display_data"
    },
    {
     "name": "stdout",
     "output_type": "stream",
     "text": [
      "5000 10 0.0\n"
     ]
    },
    {
     "name": "stderr",
     "output_type": "stream",
     "text": [
      "[Parallel(n_jobs=-1)]: Using backend LokyBackend with 20 concurrent workers.\n",
      "[Parallel(n_jobs=-1)]: Done  95 out of 100 | elapsed:  1.0min remaining:    3.1s\n",
      "[Parallel(n_jobs=-1)]: Done 100 out of 100 | elapsed:  1.0min finished\n"
     ]
    },
    {
     "data": {
      "text/html": [
       "<div>\n",
       "<style scoped>\n",
       "    .dataframe tbody tr th:only-of-type {\n",
       "        vertical-align: middle;\n",
       "    }\n",
       "\n",
       "    .dataframe tbody tr th {\n",
       "        vertical-align: top;\n",
       "    }\n",
       "\n",
       "    .dataframe thead th {\n",
       "        text-align: right;\n",
       "    }\n",
       "</style>\n",
       "<table border=\"1\" class=\"dataframe\">\n",
       "  <thead>\n",
       "    <tr style=\"text-align: right;\">\n",
       "      <th></th>\n",
       "      <th>dr</th>\n",
       "      <th>tmle</th>\n",
       "      <th>ipw</th>\n",
       "      <th>direct</th>\n",
       "    </tr>\n",
       "  </thead>\n",
       "  <tbody>\n",
       "    <tr>\n",
       "      <th>cov</th>\n",
       "      <td>94</td>\n",
       "      <td>86</td>\n",
       "      <td>NA</td>\n",
       "      <td>NA</td>\n",
       "    </tr>\n",
       "    <tr>\n",
       "      <th>rmse</th>\n",
       "      <td>0.161</td>\n",
       "      <td>0.225</td>\n",
       "      <td>0.374</td>\n",
       "      <td>0.176</td>\n",
       "    </tr>\n",
       "    <tr>\n",
       "      <th>bias</th>\n",
       "      <td>0.078</td>\n",
       "      <td>0.133</td>\n",
       "      <td>0.104</td>\n",
       "      <td>0.131</td>\n",
       "    </tr>\n",
       "    <tr>\n",
       "      <th>std</th>\n",
       "      <td>0.140</td>\n",
       "      <td>0.182</td>\n",
       "      <td>0.359</td>\n",
       "      <td>0.118</td>\n",
       "    </tr>\n",
       "  </tbody>\n",
       "</table>\n",
       "</div>"
      ],
      "text/plain": [
       "         dr   tmle    ipw direct\n",
       "cov      94     86     NA     NA\n",
       "rmse  0.161  0.225  0.374  0.176\n",
       "bias  0.078  0.133  0.104  0.131\n",
       "std   0.140  0.182  0.359  0.118"
      ]
     },
     "metadata": {},
     "output_type": "display_data"
    },
    {
     "name": "stderr",
     "output_type": "stream",
     "text": [
      "[Parallel(n_jobs=-1)]: Using backend LokyBackend with 20 concurrent workers.\n"
     ]
    },
    {
     "name": "stdout",
     "output_type": "stream",
     "text": [
      "5000 10 0.5\n"
     ]
    },
    {
     "name": "stderr",
     "output_type": "stream",
     "text": [
      "[Parallel(n_jobs=-1)]: Done  95 out of 100 | elapsed:  1.3min remaining:    4.1s\n",
      "[Parallel(n_jobs=-1)]: Done 100 out of 100 | elapsed:  1.3min finished\n"
     ]
    },
    {
     "data": {
      "text/html": [
       "<div>\n",
       "<style scoped>\n",
       "    .dataframe tbody tr th:only-of-type {\n",
       "        vertical-align: middle;\n",
       "    }\n",
       "\n",
       "    .dataframe tbody tr th {\n",
       "        vertical-align: top;\n",
       "    }\n",
       "\n",
       "    .dataframe thead th {\n",
       "        text-align: right;\n",
       "    }\n",
       "</style>\n",
       "<table border=\"1\" class=\"dataframe\">\n",
       "  <thead>\n",
       "    <tr style=\"text-align: right;\">\n",
       "      <th></th>\n",
       "      <th>dr</th>\n",
       "      <th>tmle</th>\n",
       "      <th>ipw</th>\n",
       "      <th>direct</th>\n",
       "    </tr>\n",
       "  </thead>\n",
       "  <tbody>\n",
       "    <tr>\n",
       "      <th>cov</th>\n",
       "      <td>65</td>\n",
       "      <td>51</td>\n",
       "      <td>NA</td>\n",
       "      <td>NA</td>\n",
       "    </tr>\n",
       "    <tr>\n",
       "      <th>rmse</th>\n",
       "      <td>0.314</td>\n",
       "      <td>0.405</td>\n",
       "      <td>0.501</td>\n",
       "      <td>0.157</td>\n",
       "    </tr>\n",
       "    <tr>\n",
       "      <th>bias</th>\n",
       "      <td>0.257</td>\n",
       "      <td>0.326</td>\n",
       "      <td>0.021</td>\n",
       "      <td>0.078</td>\n",
       "    </tr>\n",
       "    <tr>\n",
       "      <th>std</th>\n",
       "      <td>0.182</td>\n",
       "      <td>0.240</td>\n",
       "      <td>0.501</td>\n",
       "      <td>0.137</td>\n",
       "    </tr>\n",
       "  </tbody>\n",
       "</table>\n",
       "</div>"
      ],
      "text/plain": [
       "         dr   tmle    ipw direct\n",
       "cov      65     51     NA     NA\n",
       "rmse  0.314  0.405  0.501  0.157\n",
       "bias  0.257  0.326  0.021  0.078\n",
       "std   0.182  0.240  0.501  0.137"
      ]
     },
     "metadata": {},
     "output_type": "display_data"
    }
   ],
   "source": [
    "import pandas as pd \n",
    "\n",
    "n = 5000\n",
    "true = 1.0\n",
    "\n",
    "for n in [5000]:\n",
    "    for n_x in [5, 10]:\n",
    "        for corr in [0.0, 0.5]:\n",
    "            print(n, n_x, corr)\n",
    "            results = Parallel(n_jobs=-1, verbose=3)(delayed(exp)(it, n, n_x, corr)\n",
    "                                                            for it in range(100))\n",
    "            df = {}\n",
    "            for it, method in enumerate(['dr', 'tmle', 'ipw', 'direct']):\n",
    "                data = np.array([r[it] for r in results])\n",
    "                confidence = .95\n",
    "                se = (data[:, 2] - data[:, 0]) / scipy.stats.t.ppf((1 + confidence) / 2., n - 1)\n",
    "                confidence = .99\n",
    "                data[:, 1] = data[:, 0] - se * scipy.stats.t.ppf((1 + confidence) / 2., n - 1)\n",
    "                data[:, 2] = data[:, 0] + se * scipy.stats.t.ppf((1 + confidence) / 2., n - 1)\n",
    "                if method in ['dr', 'tmle']:\n",
    "                    cov = f'{100*np.mean((data[:, 1] <= true) & (true <= data[:, 2])):.0f}'\n",
    "                else:\n",
    "                    cov = 'NA'\n",
    "                df[method] = {'cov': cov,\n",
    "                              'rmse': f'{np.sqrt(np.mean((data[:, 0] - true)**2)):.3f}',\n",
    "                              'bias': f'{np.abs(np.mean((data[:, 0] - true))):.3f}',\n",
    "                              'std': f'{np.std(data[:, 0]):.3f}'}\n",
    "            \n",
    "            display(pd.DataFrame(df))"
   ]
  },
  {
   "cell_type": "code",
   "execution_count": null,
   "id": "bbe7c46f",
   "metadata": {},
   "outputs": [],
   "source": []
  }
 ],
 "metadata": {
  "kernelspec": {
   "display_name": "Python 3 (ipykernel)",
   "language": "python",
   "name": "python3"
  },
  "language_info": {
   "codemirror_mode": {
    "name": "ipython",
    "version": 3
   },
   "file_extension": ".py",
   "mimetype": "text/x-python",
   "name": "python",
   "nbconvert_exporter": "python",
   "pygments_lexer": "ipython3",
   "version": "3.12.3"
  }
 },
 "nbformat": 4,
 "nbformat_minor": 5
}
