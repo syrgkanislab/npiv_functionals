{
 "cells": [
  {
   "cell_type": "code",
   "execution_count": 2,
   "metadata": {},
   "outputs": [],
   "source": [
    "### Magic functinos\n",
    "%load_ext autoreload\n",
    "%autoreload 2\n",
    "%load_ext tensorboard\n",
    "%matplotlib inline"
   ]
  },
  {
   "cell_type": "code",
   "execution_count": 3,
   "metadata": {},
   "outputs": [],
   "source": [
    "### imports\n",
    "import warnings\n",
    "warnings.simplefilter('ignore')\n",
    "import itertools\n",
    "import numpy as np\n",
    "import matplotlib.pyplot as plt \n",
    "import torch\n",
    "import torch.nn as nn\n",
    "from sklearn.model_selection import train_test_split\n",
    "from sklearn.preprocessing import StandardScaler\n",
    "from mliv.dgps import get_data, get_tau_fn, fn_dict\n",
    "from mliv.neuralnet.utilities import mean_ci\n",
    "from mliv.neuralnet import AGMMEarlyStop as AGMM\n",
    "from mliv.neuralnet.moments import avg_small_diff\n",
    "from sklearn.ensemble import RandomForestRegressor"
   ]
  },
  {
   "cell_type": "markdown",
   "metadata": {},
   "source": [
    "## $\\ell_2$-Regularized AGMM with Neural Net Test Function\n",
    "\n",
    "We solve the problem:\n",
    "\\begin{equation}\n",
    "\\min_{\\theta} \\max_{w} \\frac{1}{n} \\sum_i (y_i - h_{\\theta}(x_i)) f_w(z_i) - f_w(z_i)^2\n",
    "\\end{equation}\n",
    "where $h_{\\theta}$ and $f_w$ are two neural nets."
   ]
  },
  {
   "cell_type": "code",
   "execution_count": 98,
   "metadata": {},
   "outputs": [],
   "source": [
    "def exp(it, n, n_z, n_t, iv_strength, fname, dgp_num, moment_fn, special_test=True, lambda_l2_h=0):\n",
    "    np.random.seed(it)\n",
    "    \n",
    "    #####\n",
    "    # Neural network parameters\n",
    "    ####\n",
    "    p = 0.1 # dropout prob of dropout layers throughout notebook\n",
    "    n_hidden = 100 # width of hidden layers throughout notebook\n",
    "    learner_lr = 1e-4\n",
    "    adversary_lr = 1e-4\n",
    "    learner_l2 = 1e-3\n",
    "    adversary_l2 = 1e-3\n",
    "    n_epochs = 2000\n",
    "    bs = 100\n",
    "    device = None\n",
    "    \n",
    "    ######\n",
    "    # Train test split\n",
    "    ######\n",
    "    Z, T, Y, true_fn = get_data(n, n_z, iv_strength, get_tau_fn(fn_dict[fname]), dgp_num)\n",
    "    Z_train, Z_val, T_train, T_val, Y_train, Y_val = train_test_split(Z, T, Y, test_size=.5, shuffle=True)\n",
    "    Z_train, T_train, Y_train = map(lambda x: torch.Tensor(x), (Z_train, T_train, Y_train))\n",
    "    Z_val, T_val, Y_val = map(lambda x: torch.Tensor(x).to(device), (Z_val, T_val, Y_val))\n",
    "\n",
    "    \n",
    "    #####\n",
    "    # Train \"riesz\" representer xi\n",
    "    #####\n",
    "    learner = nn.Sequential(nn.Dropout(p=p), nn.Linear(n_t, n_hidden), nn.LeakyReLU(),\n",
    "                            nn.Dropout(p=p), nn.Linear(n_hidden, 1))\n",
    "    adversary_fn = nn.Sequential(nn.Dropout(p=p), nn.Linear(n_z, n_hidden), nn.LeakyReLU(),\n",
    "                                 nn.Dropout(p=p), nn.Linear(n_hidden, 1))\n",
    "    def logger(learner, adversary, epoch, writer):\n",
    "        return \n",
    "    reisz = AGMM(learner, adversary_fn).fit(Z_train, T_train, Y_train, Z_val, T_val, Y_val,\n",
    "                                            learner_lr=learner_lr, adversary_lr=adversary_lr,\n",
    "                                            learner_l2=learner_l2, adversary_l2=adversary_l2,\n",
    "                                            n_epochs=n_epochs, bs=bs, logger=logger,\n",
    "                                            model_dir=f'riesz_model_{it}', device=device,\n",
    "                                            riesz=True, moment_fn=moment_fn, verbose=0,\n",
    "                                            min_eval_epoch=50)\n",
    "    \n",
    "    ######\n",
    "    # Train \"riesz\" representer q\n",
    "    ######\n",
    "    qfun = RandomForestRegressor(min_samples_leaf=20).fit(Z_train, reisz.predict(T_train).ravel())\n",
    "    \n",
    "    ######\n",
    "    # Train IV function h\n",
    "    ######\n",
    "\n",
    "    # Add \"clever instrument\" to instrument vector\n",
    "    augZ_val = Z_val\n",
    "    augZ_train = Z_train\n",
    "    augT_val = T_val\n",
    "    augT_train = T_train\n",
    "    if special_test:\n",
    "        qtrain = torch.tensor(qfun.predict(Z_train).reshape(-1, 1)).float()\n",
    "        # .1 is to avoid overshooting in the training of the coefficient during the first\n",
    "        # few epochs of gradient descent; especially since coefficient is un-penalized\n",
    "        qtrain = .1 * qtrain / (qtrain**2).mean().sqrt()\n",
    "        augZ_train = torch.cat([qtrain, Z_train], dim=1)\n",
    "        qval = torch.tensor(qfun.predict(Z_val).reshape(-1, 1)).float()\n",
    "        qval = .1 * qval / (qval**2).mean().sqrt()\n",
    "        augZ_val = torch.cat([qval, Z_val], dim=1)\n",
    "\n",
    "    adversary_fn = nn.Sequential(nn.Dropout(p=p), nn.Linear(n_z, n_hidden), nn.LeakyReLU(),\n",
    "                                 nn.Dropout(p=p), nn.Linear(n_hidden, 1))\n",
    "    learner = nn.Sequential(nn.Dropout(p=p), nn.Linear(n_t, n_hidden), nn.LeakyReLU(),\n",
    "                            nn.Dropout(p=p), nn.Linear(n_hidden, 1))\n",
    "    \n",
    "    agmm = AGMM(learner, adversary_fn, special_test=special_test)\n",
    "    agmm.fit(augZ_train, T_train, Y_train, augZ_val, T_val, Y_val,\n",
    "             learner_lr=learner_lr, adversary_lr=adversary_lr,\n",
    "             learner_l2=learner_l2, adversary_l2=adversary_l2,\n",
    "             learner_tikhonov=lambda_l2_h,\n",
    "             n_epochs=n_epochs, bs=bs, logger=logger,\n",
    "             model_dir=f'agmm_model_{it}', device=device, verbose=0,\n",
    "             min_eval_epoch=50)\n",
    "\n",
    "    \n",
    "    #####\n",
    "    # Average moment calculation\n",
    "    #####\n",
    "    direct = moment_fn(T_val, agmm.predict, device='cpu').flatten()\n",
    "    residual = (Y_val - agmm.predict(T_val)).detach().numpy().flatten()\n",
    "    qvalues = qfun.predict(Z_val).flatten()\n",
    "    pseudo = direct + qvalues * residual\n",
    "    dr = mean_ci(pseudo)\n",
    "    ipw = mean_ci(qvalues * Y_val.detach().numpy().flatten())\n",
    "    reg = mean_ci(direct)\n",
    "    \n",
    "    xivalues = reisz.predict(T_val).flatten()\n",
    "    coef = np.mean(qvalues * residual) / np.mean(qvalues * xivalues)\n",
    "    pseudo_tmle = direct + coef * moment_fn(T_val, reisz.predict, device='cpu').flatten()\n",
    "    pseudo_tmle += qvalues * (residual - coef * xivalues)\n",
    "    tmle = mean_ci(pseudo_tmle)\n",
    "\n",
    "    return dr, tmle, ipw, reg"
   ]
  },
  {
   "cell_type": "code",
   "execution_count": 99,
   "metadata": {},
   "outputs": [
    {
     "name": "stdout",
     "output_type": "stream",
     "text": [
      "True: 0.1386\n"
     ]
    }
   ],
   "source": [
    "n = 5000\n",
    "n_z = 1\n",
    "n_t = 1\n",
    "iv_strength = .05\n",
    "fname = 'sigmoid'\n",
    "dgp_num = 5\n",
    "epsilon = .1 # average finite difference epsilon\n",
    "moment_fn = lambda x, fn, device: avg_small_diff(x, fn, device, epsilon)\n",
    "lambda_l2_h = .1/n**(.9)\n",
    "clever = True\n",
    "\n",
    "Z, T, Y, true_fn = get_data(1000000, n_z, iv_strength, get_tau_fn(fn_dict[fname]), dgp_num)\n",
    "true = np.mean(moment_fn(T, true_fn, device='cpu'))\n",
    "print(f'True: {true:.4f}')"
   ]
  },
  {
   "cell_type": "code",
   "execution_count": 100,
   "metadata": {
    "scrolled": true
   },
   "outputs": [
    {
     "data": {
      "text/plain": [
       "((0.008576425512052134, -0.05948952680590684, 0.07664237783001111),\n",
       " (0.03186673, -0.056343924869689616, 0.12007738338867155),\n",
       " (0.8629815888884205, 0.3237488347763755, 1.4022143430004654),\n",
       " (0.057288904, 0.057288897134275325, 0.057288910351781956))"
      ]
     },
     "execution_count": 100,
     "metadata": {},
     "output_type": "execute_result"
    }
   ],
   "source": [
    "exp(1, n, n_z, n_t, iv_strength, fname, dgp_num, moment_fn, clever, lambda_l2_h)"
   ]
  },
  {
   "cell_type": "code",
   "execution_count": 71,
   "metadata": {
    "scrolled": false
   },
   "outputs": [
    {
     "data": {
      "text/html": [
       "\n",
       "      <iframe id=\"tensorboard-frame-8240f83602148271\" width=\"100%\" height=\"800\" frameborder=\"0\">\n",
       "      </iframe>\n",
       "      <script>\n",
       "        (function() {\n",
       "          const frame = document.getElementById(\"tensorboard-frame-8240f83602148271\");\n",
       "          const url = new URL(\"/\", window.location);\n",
       "          const port = 6007;\n",
       "          if (port) {\n",
       "            url.port = port;\n",
       "          }\n",
       "          frame.src = url;\n",
       "        })();\n",
       "      </script>\n",
       "    "
      ],
      "text/plain": [
       "<IPython.core.display.HTML object>"
      ]
     },
     "metadata": {},
     "output_type": "display_data"
    }
   ],
   "source": [
    "%tensorboard --logdir=runs"
   ]
  },
  {
   "cell_type": "code",
   "execution_count": 79,
   "metadata": {},
   "outputs": [],
   "source": [
    "def plot_results(fname, n, iv_strength, dr, tmle, ipw, direct, true):\n",
    "    plt.title(f'fname={fname}, n={n}, strength={iv_strength}, true={true:.3f}\\n'\n",
    "              f'dr: Cov={np.mean((dr[:, 1] <= true) & (true <= dr[:, 2])):.3f}, '\n",
    "              f'rmse={np.sqrt(np.mean((dr[:, 0]-true)**2)):.3f}, '\n",
    "              f'bias={np.mean((dr[:, 0]-true)):.3f}\\n'\n",
    "              f'tmle: Cov={np.mean((tmle[:, 1] <= true) & (true <= tmle[:, 2])):.3f}, '\n",
    "              f'rmse={np.sqrt(np.mean((tmle[:, 0]-true)**2)):.3f}, '\n",
    "              f'bias={np.mean((tmle[:, 0]-true)):.3f}\\n'\n",
    "              f'ipw: Cov={np.mean((ipw[:, 1] <= true) & (true <= ipw[:, 2])):.3f}, '\n",
    "              f'rmse={np.sqrt(np.mean((ipw[:, 0]-true)**2)):.3f}, '\n",
    "              f'bias={np.mean((ipw[:, 0]-true)):.3f}\\n'\n",
    "              f'direct: Cov={np.mean((direct[:, 1] <= true) & (true <= direct[:, 2])):.3f}, '\n",
    "              f'rmse={np.sqrt(np.mean((direct[:, 0]-true)**2)):.3f}, '\n",
    "              f'bias={np.mean((direct[:, 0]-true)):.3f}\\n')\n",
    "    plt.hist(dr[:, 0], label='dr')\n",
    "    plt.hist(tmle[:, 0], label='tmle', alpha=.4)\n",
    "    plt.hist(ipw[:, 0], label='ipw', alpha=.4)\n",
    "    plt.hist(direct[:, 0], label='direct', alpha=.4)\n",
    "    plt.legend()"
   ]
  },
  {
   "cell_type": "code",
   "execution_count": 80,
   "metadata": {},
   "outputs": [
    {
     "name": "stdout",
     "output_type": "stream",
     "text": [
      "True\n",
      "True: -0.4210\n"
     ]
    },
    {
     "name": "stderr",
     "output_type": "stream",
     "text": [
      "[Parallel(n_jobs=-1)]: Using backend LokyBackend with 8 concurrent workers.\n",
      "[Parallel(n_jobs=-1)]: Done   2 out of   8 | elapsed:  2.8min remaining:  8.5min\n",
      "[Parallel(n_jobs=-1)]: Done   5 out of   8 | elapsed:  3.1min remaining:  1.9min\n",
      "[Parallel(n_jobs=-1)]: Done   8 out of   8 | elapsed:  3.6min remaining:    0.0s\n",
      "[Parallel(n_jobs=-1)]: Done   8 out of   8 | elapsed:  3.6min finished\n"
     ]
    },
    {
     "data": {
      "image/png": "[encoded data removed]",
      "text/plain": [
       "<Figure size 432x288 with 1 Axes>"
      ]
     },
     "metadata": {
      "needs_background": "light"
     },
     "output_type": "display_data"
    },
    {
     "name": "stdout",
     "output_type": "stream",
     "text": [
      "False\n",
      "True: -0.4217\n"
     ]
    },
    {
     "name": "stderr",
     "output_type": "stream",
     "text": [
      "[Parallel(n_jobs=-1)]: Using backend LokyBackend with 8 concurrent workers.\n",
      "[Parallel(n_jobs=-1)]: Done   2 out of   8 | elapsed:  2.4min remaining:  7.3min\n",
      "[Parallel(n_jobs=-1)]: Done   5 out of   8 | elapsed:  2.9min remaining:  1.8min\n",
      "[Parallel(n_jobs=-1)]: Done   8 out of   8 | elapsed:  3.8min remaining:    0.0s\n",
      "[Parallel(n_jobs=-1)]: Done   8 out of   8 | elapsed:  3.8min finished\n"
     ]
    },
    {
     "data": {
      "image/png": "[encoded data removed]",
      "text/plain": [
       "<Figure size 432x288 with 1 Axes>"
      ]
     },
     "metadata": {
      "needs_background": "light"
     },
     "output_type": "display_data"
    }
   ],
   "source": [
    "import joblib\n",
    "from joblib import Parallel, delayed\n",
    "\n",
    "n_z = 1\n",
    "n_t = 1\n",
    "dgp_num = 5\n",
    "epsilon = 0.1 # average finite difference epsilon\n",
    "moment_fn = lambda x, fn, device: avg_small_diff(x, fn, device, epsilon)\n",
    "\n",
    "for clever in [True, False]:\n",
    "    print(clever)\n",
    "    for fname in ['2dpoly']:\n",
    "        for n in [1000]:\n",
    "            for iv_strength in [.2]:\n",
    "                lambda_l2_h = .1/n**(.9)\n",
    "                Z, T, Y, true_fn = get_data(1000000, n_z, iv_strength, get_tau_fn(fn_dict[fname]), dgp_num)\n",
    "                true = np.mean(moment_fn(T, true_fn, device='cpu'))\n",
    "                print(f'True: {true:.4f}')\n",
    "                results = Parallel(n_jobs=-1, verbose=3)(delayed(exp)(it, n, n_z, n_t, iv_strength,\n",
    "                                                                      fname, dgp_num, moment_fn,\n",
    "                                                                      special_test=clever, lambda_l2_h=lambda_l2_h)\n",
    "                                                         for it in range(8))\n",
    "                dr = np.array([r[0] for r in results])\n",
    "                tmle = np.array([r[1] for r in results])\n",
    "                ipw = np.array([r[2] for r in results])\n",
    "                direct = np.array([r[3] for r in results])\n",
    "                plot_results(fname, n, iv_strength, dr, tmle, ipw, direct, true)\n",
    "                plt.show()"
   ]
  },
  {
   "cell_type": "code",
   "execution_count": 38,
   "metadata": {},
   "outputs": [
    {
     "data": {
      "image/png": "[encoded data removed]",
      "text/plain": [
       "<Figure size 432x288 with 1 Axes>"
      ]
     },
     "metadata": {
      "needs_background": "light"
     },
     "output_type": "display_data"
    }
   ],
   "source": [
    "plot_results(fname, n, iv_strength, dr, tmle, ipw, direct, true)\n",
    "plt.show()"
   ]
  },
  {
   "cell_type": "code",
   "execution_count": null,
   "metadata": {},
   "outputs": [],
   "source": []
  }
 ],
 "metadata": {
  "accelerator": "GPU",
  "colab": {
   "collapsed_sections": [],
   "name": "NeuralNetExamples.ipynb",
   "provenance": [],
   "toc_visible": true
  },
  "kernelspec": {
   "display_name": "Python 3",
   "language": "python",
   "name": "python3"
  },
  "language_info": {
   "codemirror_mode": {
    "name": "ipython",
    "version": 3
   },
   "file_extension": ".py",
   "mimetype": "text/x-python",
   "name": "python",
   "nbconvert_exporter": "python",
   "pygments_lexer": "ipython3",
   "version": "3.6.10"
  }
 },
 "nbformat": 4,
 "nbformat_minor": 1
}
